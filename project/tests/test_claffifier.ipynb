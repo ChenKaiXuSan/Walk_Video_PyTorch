{
 "cells": [
  {
   "cell_type": "code",
   "execution_count": null,
   "metadata": {},
   "outputs": [],
   "source": [
    "import torch \n",
    "import os \n",
    "# os.environ[\"CUDA_VISIBLE_DEVICES\"] = \"1\"\n",
    "\n",
    "%cd ../"
   ]
  },
  {
   "cell_type": "code",
   "execution_count": null,
   "metadata": {},
   "outputs": [],
   "source": [
    "from models.pytorchvideo_models import WalkVideoClassificationLightningModule\n",
    "from pytorch_lightning import Trainer"
   ]
  },
  {
   "cell_type": "code",
   "execution_count": null,
   "metadata": {},
   "outputs": [],
   "source": [
    "from main import get_parameters\n",
    "\n",
    "opt, unknown = get_parameters()\n",
    "opt.num_workers = 8\n",
    "opt.batch_size = 64\n",
    "opt.gpu_num = 0\n",
    "opt.model = \"csn\"\n",
    "opt.model_depth = 50\n"
   ]
  },
  {
   "cell_type": "code",
   "execution_count": null,
   "metadata": {},
   "outputs": [],
   "source": [
    "model = WalkVideoClassificationLightningModule(opt)\n",
    "# model = model.load_from_checkpoint(\"/workspace/Walk_Video_PyTorch/logs/resnet/0603/checkpoints/epoch=99-step=1800.ckpt\")\n",
    "model.eval()\n",
    "\n",
    "checkpoint = torch.load(\"/workspace/Walk_Video_PyTorch/logs/csn/0719_csn_depth50/checkpoints/epoch=40-step=8200.ckpt\")\n",
    "\n",
    "model.load_state_dict(checkpoint[\"state_dict\"])"
   ]
  },
  {
   "cell_type": "code",
   "execution_count": null,
   "metadata": {},
   "outputs": [],
   "source": [
    "from dataloader.data_loader import WalkDataModule\n",
    "from pytorch_lightning import loggers as pl_loggers \n",
    "\n",
    "# load test dataset \n",
    "module = WalkDataModule(opt)\n",
    "module.setup()\n",
    "test_data = module.test_dataloader()\n",
    "\n",
    "# for the tensorboard\n",
    "tb_logger = pl_loggers.TensorBoardLogger(save_dir=\"/workspace/Walk_Video_PyTorch/project/tests/logs\", name=opt.model, version=opt.version)\n",
    "\n",
    "\n",
    "trainer = Trainer(\n",
    "    accelerator=\"auto\",\n",
    "    devices=1,\n",
    "    gpus=opt.gpu_num,\n",
    "    logger=tb_logger,\n",
    "    max_epochs=-1,\n",
    ")\n",
    "\n",
    "trainer.test(dataloaders=module, model=model)\n"
   ]
  },
  {
   "cell_type": "code",
   "execution_count": null,
   "metadata": {},
   "outputs": [],
   "source": [
    "input_data = next(iter(test_data))\n"
   ]
  },
  {
   "cell_type": "code",
   "execution_count": null,
   "metadata": {},
   "outputs": [],
   "source": [
    "input_data['video'].shape\n",
    "\n",
    "input_data[\"video_name\"]"
   ]
  },
  {
   "cell_type": "code",
   "execution_count": null,
   "metadata": {},
   "outputs": [],
   "source": [
    "input_data['label']"
   ]
  },
  {
   "cell_type": "code",
   "execution_count": null,
   "metadata": {},
   "outputs": [],
   "source": [
    "preds = model(input_data['video'])"
   ]
  },
  {
   "cell_type": "code",
   "execution_count": null,
   "metadata": {},
   "outputs": [],
   "source": [
    "post_act = torch.nn.Softmax(dim=1)\n",
    "preds = post_act(preds)\n",
    "pred_classes = preds.topk(k=1).indices"
   ]
  },
  {
   "cell_type": "code",
   "execution_count": null,
   "metadata": {},
   "outputs": [],
   "source": [
    "pred_classes"
   ]
  },
  {
   "cell_type": "code",
   "execution_count": null,
   "metadata": {},
   "outputs": [],
   "source": [
    "classname = {}\n",
    "\n",
    "classname[0] = 'asd'\n",
    "classname[1] = 'asd_not'"
   ]
  },
  {
   "cell_type": "code",
   "execution_count": null,
   "metadata": {},
   "outputs": [],
   "source": [
    "real_calss = []\n",
    "\n",
    "for i in input_data['label'].tolist():\n",
    "    real_calss.append(classname[i])"
   ]
  },
  {
   "cell_type": "code",
   "execution_count": null,
   "metadata": {},
   "outputs": [],
   "source": [
    "real_calss"
   ]
  },
  {
   "cell_type": "code",
   "execution_count": null,
   "metadata": {},
   "outputs": [],
   "source": [
    "# pred_class_names = []\n",
    "# for num in range(opt._BATCH_SIZE):\n",
    "#     for i in pred_classes[i]:\n",
    "#         pred_class_names.append(classname[int(i)])\n",
    "\n",
    "\n",
    "pred_class_names = [classname[int(i)] for i in pred_classes]\n",
    "print(\"Predicted labels: %s\" % \", \".join(pred_class_names))\n",
    "print(\"real label: %s\" % \",\".join(real_calss))"
   ]
  },
  {
   "cell_type": "code",
   "execution_count": null,
   "metadata": {},
   "outputs": [],
   "source": [
    "pred_class_names == real_calss"
   ]
  },
  {
   "cell_type": "code",
   "execution_count": null,
   "metadata": {},
   "outputs": [],
   "source": [
    "result = []\n",
    "\n",
    "for i in range(len(real_calss)):\n",
    "    if pred_class_names[i] == real_calss[i]:\n",
    "        result.append(\"true\")\n",
    "    else:\n",
    "        result.append(\"false\")\n",
    "\n",
    "result"
   ]
  }
 ],
 "metadata": {
  "interpreter": {
   "hash": "767d51c1340bd893661ea55ea3124f6de3c7a262a8b4abca0554b478b1e2ff90"
  },
  "kernelspec": {
   "display_name": "Python 3.9.12 64-bit",
   "language": "python",
   "name": "python3"
  },
  "language_info": {
   "codemirror_mode": {
    "name": "ipython",
    "version": 3
   },
   "file_extension": ".py",
   "mimetype": "text/x-python",
   "name": "python",
   "nbconvert_exporter": "python",
   "pygments_lexer": "ipython3",
   "version": "3.9.13"
  },
  "orig_nbformat": 4
 },
 "nbformat": 4,
 "nbformat_minor": 2
}
