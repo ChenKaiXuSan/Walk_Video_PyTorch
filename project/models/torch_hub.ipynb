{
 "cells": [
  {
   "cell_type": "code",
   "execution_count": 1,
   "metadata": {},
   "outputs": [],
   "source": [
    "import torch \n",
    "import torch.nn as nn\n",
    "import os \n",
    "\n",
    "os.environ[\"CUDA_VISIBLE_DEVICES\"] = \"1\"\n",
    "\n",
    "from torchinfo import summary"
   ]
  },
  {
   "cell_type": "markdown",
   "metadata": {},
   "source": [
    "# The Pytorch Video Module Zoo"
   ]
  },
  {
   "cell_type": "code",
   "execution_count": 25,
   "metadata": {},
   "outputs": [],
   "source": [
    "from pytorchvideo.models import x3d\n",
    "\n",
    "model = x3d.create_x3d(\n",
    "    input_channel=3,\n",
    "    model_num_class=2,\n",
    "    input_clip_length=4,\n",
    ")"
   ]
  },
  {
   "cell_type": "code",
   "execution_count": 14,
   "metadata": {},
   "outputs": [],
   "source": [
    "from pytorchvideo.models import slowfast\n",
    "\n",
    "# todo\n",
    "model = slowfast.create_slowfast(\n",
    "    input_channels=(3, 3), \n",
    "    model_num_class=2, \n",
    "    model_depth=50,\n",
    "    norm=nn.BatchNorm3d,\n",
    "    activation=nn.ReLU\n",
    ")"
   ]
  },
  {
   "cell_type": "code",
   "execution_count": 3,
   "metadata": {},
   "outputs": [],
   "source": [
    "from pytorchvideo.models import r2plus1d\n",
    "\n",
    "model = r2plus1d.create_r2plus1d(\n",
    "    input_channel=3,\n",
    "    model_depth=50,\n",
    "    model_num_class=2,\n",
    "    norm=nn.BatchNorm3d,\n",
    "    activation=nn.ReLU,\n",
    ")"
   ]
  },
  {
   "cell_type": "code",
   "execution_count": 2,
   "metadata": {},
   "outputs": [],
   "source": [
    "from pytorchvideo.models import csn\n",
    "\n",
    "model = csn.create_csn(\n",
    "    input_channel=3,\n",
    "    model_depth=50, \n",
    "    norm=nn.BatchNorm3d,\n",
    "    activation=nn.ReLU,\n",
    "    model_num_class=2,\n",
    ")"
   ]
  },
  {
   "cell_type": "code",
   "execution_count": 15,
   "metadata": {},
   "outputs": [],
   "source": [
    "from pytorchvideo.models import resnet\n",
    "\n",
    "model = resnet.create_resnet(\n",
    "    input_channel=3,\n",
    "    model_depth=152,\n",
    "    norm=nn.BatchNorm3d,\n",
    "    activation=nn.ReLU,\n",
    "    model_num_class=2,\n",
    ")"
   ]
  },
  {
   "cell_type": "code",
   "execution_count": 16,
   "metadata": {},
   "outputs": [
    {
     "name": "stdout",
     "output_type": "stream",
     "text": [
      "======================================================================================================================================================\n",
      "Layer (type:depth-idx)                             Input Shape               Output Shape              Param #                   Kernel Shape\n",
      "======================================================================================================================================================\n",
      "Net                                                [16, 3, 8, 256, 256]      [16, 2]                   --                        --\n",
      "├─ModuleList: 1-1                                  --                        --                        --                        --\n",
      "│    └─ResNetBasicStem: 2-1                        [16, 3, 8, 256, 256]      [16, 64, 8, 64, 64]       --                        --\n",
      "│    │    └─Conv3d: 3-1                            [16, 3, 8, 256, 256]      [16, 64, 8, 128, 128]     28,224                    [3, 7, 7]\n",
      "│    │    └─BatchNorm3d: 3-2                       [16, 64, 8, 128, 128]     [16, 64, 8, 128, 128]     128                       --\n",
      "│    │    └─ReLU: 3-3                              [16, 64, 8, 128, 128]     [16, 64, 8, 128, 128]     --                        --\n",
      "│    │    └─MaxPool3d: 3-4                         [16, 64, 8, 128, 128]     [16, 64, 8, 64, 64]       --                        [1, 3, 3]\n",
      "│    └─ResStage: 2-2                               [16, 64, 8, 64, 64]       [16, 256, 8, 64, 64]      --                        --\n",
      "│    │    └─ModuleList: 3-5                        --                        --                        215,808                   --\n",
      "│    └─ResStage: 2-3                               [16, 256, 8, 64, 64]      [16, 512, 8, 32, 32]      --                        --\n",
      "│    │    └─ModuleList: 3-6                        --                        --                        2,339,840                 --\n",
      "│    └─ResStage: 2-4                               [16, 512, 8, 32, 32]      [16, 1024, 8, 16, 16]     --                        --\n",
      "│    │    └─ModuleList: 3-7                        --                        --                        59,226,112                --\n",
      "│    └─ResStage: 2-5                               [16, 1024, 8, 16, 16]     [16, 2048, 8, 8, 8]       --                        --\n",
      "│    │    └─ModuleList: 3-8                        --                        --                        20,207,616                --\n",
      "│    └─ResNetBasicHead: 2-6                        [16, 2048, 8, 8, 8]       [16, 2]                   --                        --\n",
      "│    │    └─AvgPool3d: 3-9                         [16, 2048, 8, 8, 8]       [16, 2048, 5, 2, 2]       --                        [4, 7, 7]\n",
      "│    │    └─Dropout: 3-10                          [16, 2048, 5, 2, 2]       [16, 2048, 5, 2, 2]       --                        --\n",
      "│    │    └─Linear: 3-11                           [16, 5, 2, 2, 2048]       [16, 5, 2, 2, 2]          4,098                     --\n",
      "│    │    └─AdaptiveAvgPool3d: 3-12                [16, 2, 5, 2, 2]          [16, 2, 1, 1, 1]          --                        --\n",
      "======================================================================================================================================================\n",
      "Total params: 82,021,826\n",
      "Trainable params: 82,021,826\n",
      "Non-trainable params: 0\n",
      "Total mult-adds (T): 2.67\n",
      "======================================================================================================================================================\n",
      "Input size (MB): 100.66\n",
      "Forward/backward pass size (MB): 60330.87\n",
      "Params size (MB): 328.09\n",
      "Estimated Total Size (MB): 60759.62\n",
      "======================================================================================================================================================\n"
     ]
    }
   ],
   "source": [
    "from torchinfo import summary\n",
    "\n",
    "batch_size = 16\n",
    "\n",
    "# summayer = summary(\n",
    "#     model, \n",
    "#     input_size=(batch_size, 3, 8, 256, 256), \n",
    "#     col_names=[\"input_size\", \"output_size\", \"num_params\", \"mult_adds\", \"kernel_size\", \"trainable\"],\n",
    "    \n",
    "#     )\n",
    "\n",
    "summayer = summary(\n",
    "    model,\n",
    "    input_size=(batch_size, 3, 8, 256, 256),\n",
    "    col_names=[\"input_size\", \"output_size\", \"num_params\", \"kernel_size\"]\n",
    ")\n",
    "\n",
    "print(summayer)\n"
   ]
  },
  {
   "cell_type": "markdown",
   "metadata": {},
   "source": [
    "# The TorhcHub Module Zoo"
   ]
  },
  {
   "cell_type": "code",
   "execution_count": 2,
   "metadata": {},
   "outputs": [
    {
     "name": "stderr",
     "output_type": "stream",
     "text": [
      "Using cache found in /root/.cache/torch/hub/facebookresearch_pytorchvideo_main\n"
     ]
    }
   ],
   "source": [
    "model_name = 'x3d_s'\n",
    "model = torch.hub.load('facebookresearch/pytorchvideo', model_name, pretrained=False)"
   ]
  },
  {
   "cell_type": "code",
   "execution_count": 4,
   "metadata": {},
   "outputs": [],
   "source": [
    "from torchvision.models import video\n",
    "\n",
    "model = video.r3d_18(pretrained=False)"
   ]
  },
  {
   "cell_type": "code",
   "execution_count": 5,
   "metadata": {},
   "outputs": [
    {
     "name": "stdout",
     "output_type": "stream",
     "text": [
      "==========================================================================================\n",
      "Layer (type:depth-idx)                   Output Shape              Param #\n",
      "==========================================================================================\n",
      "VideoResNet                              [16, 400]                 --\n",
      "├─BasicStem: 1-1                         [16, 64, 8, 128, 128]     --\n",
      "│    └─Conv3d: 2-1                       [16, 64, 8, 128, 128]     28,224\n",
      "│    └─BatchNorm3d: 2-2                  [16, 64, 8, 128, 128]     128\n",
      "│    └─ReLU: 2-3                         [16, 64, 8, 128, 128]     --\n",
      "├─Sequential: 1-2                        [16, 64, 8, 128, 128]     --\n",
      "│    └─BasicBlock: 2-4                   [16, 64, 8, 128, 128]     --\n",
      "│    │    └─Sequential: 3-1              [16, 64, 8, 128, 128]     110,720\n",
      "│    │    └─Sequential: 3-2              [16, 64, 8, 128, 128]     110,720\n",
      "│    │    └─ReLU: 3-3                    [16, 64, 8, 128, 128]     --\n",
      "│    └─BasicBlock: 2-5                   [16, 64, 8, 128, 128]     --\n",
      "│    │    └─Sequential: 3-4              [16, 64, 8, 128, 128]     110,720\n",
      "│    │    └─Sequential: 3-5              [16, 64, 8, 128, 128]     110,720\n",
      "│    │    └─ReLU: 3-6                    [16, 64, 8, 128, 128]     --\n",
      "├─Sequential: 1-3                        [16, 128, 4, 64, 64]      --\n",
      "│    └─BasicBlock: 2-6                   [16, 128, 4, 64, 64]      --\n",
      "│    │    └─Sequential: 3-7              [16, 128, 4, 64, 64]      221,440\n",
      "│    │    └─Sequential: 3-8              [16, 128, 4, 64, 64]      442,624\n",
      "│    │    └─Sequential: 3-9              [16, 128, 4, 64, 64]      8,448\n",
      "│    │    └─ReLU: 3-10                   [16, 128, 4, 64, 64]      --\n",
      "│    └─BasicBlock: 2-7                   [16, 128, 4, 64, 64]      --\n",
      "│    │    └─Sequential: 3-11             [16, 128, 4, 64, 64]      442,624\n",
      "│    │    └─Sequential: 3-12             [16, 128, 4, 64, 64]      442,624\n",
      "│    │    └─ReLU: 3-13                   [16, 128, 4, 64, 64]      --\n",
      "├─Sequential: 1-4                        [16, 256, 2, 32, 32]      --\n",
      "│    └─BasicBlock: 2-8                   [16, 256, 2, 32, 32]      --\n",
      "│    │    └─Sequential: 3-14             [16, 256, 2, 32, 32]      885,248\n",
      "│    │    └─Sequential: 3-15             [16, 256, 2, 32, 32]      1,769,984\n",
      "│    │    └─Sequential: 3-16             [16, 256, 2, 32, 32]      33,280\n",
      "│    │    └─ReLU: 3-17                   [16, 256, 2, 32, 32]      --\n",
      "│    └─BasicBlock: 2-9                   [16, 256, 2, 32, 32]      --\n",
      "│    │    └─Sequential: 3-18             [16, 256, 2, 32, 32]      1,769,984\n",
      "│    │    └─Sequential: 3-19             [16, 256, 2, 32, 32]      1,769,984\n",
      "│    │    └─ReLU: 3-20                   [16, 256, 2, 32, 32]      --\n",
      "├─Sequential: 1-5                        [16, 512, 1, 16, 16]      --\n",
      "│    └─BasicBlock: 2-10                  [16, 512, 1, 16, 16]      --\n",
      "│    │    └─Sequential: 3-21             [16, 512, 1, 16, 16]      3,539,968\n",
      "│    │    └─Sequential: 3-22             [16, 512, 1, 16, 16]      7,078,912\n",
      "│    │    └─Sequential: 3-23             [16, 512, 1, 16, 16]      132,096\n",
      "│    │    └─ReLU: 3-24                   [16, 512, 1, 16, 16]      --\n",
      "│    └─BasicBlock: 2-11                  [16, 512, 1, 16, 16]      --\n",
      "│    │    └─Sequential: 3-25             [16, 512, 1, 16, 16]      7,078,912\n",
      "│    │    └─Sequential: 3-26             [16, 512, 1, 16, 16]      7,078,912\n",
      "│    │    └─ReLU: 3-27                   [16, 512, 1, 16, 16]      --\n",
      "├─AdaptiveAvgPool3d: 1-6                 [16, 512, 1, 1, 1]        --\n",
      "├─Linear: 1-7                            [16, 400]                 205,200\n",
      "==========================================================================================\n",
      "Total params: 33,371,472\n",
      "Trainable params: 33,371,472\n",
      "Non-trainable params: 0\n",
      "Total mult-adds (T): 1.70\n",
      "==========================================================================================\n",
      "Input size (MB): 100.66\n",
      "Forward/backward pass size (MB): 14260.68\n",
      "Params size (MB): 133.49\n",
      "Estimated Total Size (MB): 14494.83\n",
      "==========================================================================================\n"
     ]
    }
   ],
   "source": [
    "result = summary(model, input_size=(batch_size, 3, 8, 256, 256))\n",
    "\n",
    "print(result)"
   ]
  }
 ],
 "metadata": {
  "interpreter": {
   "hash": "767d51c1340bd893661ea55ea3124f6de3c7a262a8b4abca0554b478b1e2ff90"
  },
  "kernelspec": {
   "display_name": "Python 3.9.12 64-bit",
   "language": "python",
   "name": "python3"
  },
  "language_info": {
   "codemirror_mode": {
    "name": "ipython",
    "version": 3
   },
   "file_extension": ".py",
   "mimetype": "text/x-python",
   "name": "python",
   "nbconvert_exporter": "python",
   "pygments_lexer": "ipython3",
   "version": "3.9.13"
  },
  "orig_nbformat": 4
 },
 "nbformat": 4,
 "nbformat_minor": 2
}
