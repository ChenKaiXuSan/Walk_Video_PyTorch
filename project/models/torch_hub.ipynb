{
 "cells": [
  {
   "cell_type": "code",
   "execution_count": 1,
   "metadata": {},
   "outputs": [],
   "source": [
    "import torch \n",
    "import torch.nn as nn\n",
    "import os \n",
    "\n",
    "os.environ[\"CUDA_VISIBLE_DEVICES\"] = \"1\"\n",
    "\n",
    "from torchinfo import summary"
   ]
  },
  {
   "cell_type": "markdown",
   "metadata": {},
   "source": [
    "# The Pytorch Video Module Zoo"
   ]
  },
  {
   "cell_type": "code",
   "execution_count": 2,
   "metadata": {},
   "outputs": [],
   "source": [
    "from pytorchvideo.models import x3d\n",
    "\n",
    "model = x3d.create_x3d(\n",
    "    input_channel=3,\n",
    "    model_num_class=2,\n",
    "    input_clip_length=4,\n",
    ")"
   ]
  },
  {
   "cell_type": "code",
   "execution_count": 3,
   "metadata": {},
   "outputs": [],
   "source": [
    "from pytorchvideo.models import slowfast\n",
    "\n",
    "# todo\n",
    "model = slowfast.create_slowfast(\n",
    "    input_channels=(3, 3), \n",
    "    model_num_class=2, \n",
    "    model_depth=50,\n",
    "    norm=nn.BatchNorm3d,\n",
    "    activation=nn.ReLU\n",
    ")"
   ]
  },
  {
   "cell_type": "code",
   "execution_count": 4,
   "metadata": {},
   "outputs": [],
   "source": [
    "from pytorchvideo.models import r2plus1d\n",
    "\n",
    "model = r2plus1d.create_r2plus1d(\n",
    "    input_channel=3,\n",
    "    model_depth=50,\n",
    "    model_num_class=2,\n",
    "    norm=nn.BatchNorm3d,\n",
    "    activation=nn.ReLU,\n",
    ")"
   ]
  },
  {
   "cell_type": "code",
   "execution_count": 5,
   "metadata": {},
   "outputs": [],
   "source": [
    "from pytorchvideo.models import csn\n",
    "\n",
    "model = csn.create_csn(\n",
    "    input_channel=3,\n",
    "    model_depth=50, \n",
    "    norm=nn.BatchNorm3d,\n",
    "    activation=nn.ReLU,\n",
    "    model_num_class=2,\n",
    ")"
   ]
  },
  {
   "cell_type": "code",
   "execution_count": 6,
   "metadata": {},
   "outputs": [],
   "source": [
    "from pytorchvideo.models import resnet\n",
    "\n",
    "model = resnet.create_resnet(\n",
    "    input_channel=3,\n",
    "    model_depth=152,\n",
    "    norm=nn.BatchNorm3d,\n",
    "    activation=nn.ReLU,\n",
    "    model_num_class=2,\n",
    ")"
   ]
  },
  {
   "cell_type": "code",
   "execution_count": 10,
   "metadata": {},
   "outputs": [
    {
     "ename": "RuntimeError",
     "evalue": "Failed to run torchinfo. See above stack traces for more details. Executed layers up to: [ResNetBasicStem: 2, Conv2plus1d: 3, Conv3d: 4, Conv3d: 4, BatchNorm3d: 3, ReLU: 3, ResStage: 2, ResBlock: 4, Conv3d: 5, BottleneckBlock: 5, Conv3d: 6, BatchNorm3d: 6, ReLU: 6, Conv3d: 6, Sequential: 6, BatchNorm3d: 7, SqueezeExcitation: 7, Sequential: 8, Conv3d: 9, ReLU: 9, Conv3d: 9, Sigmoid: 9, Swish: 6, Conv3d: 6, BatchNorm3d: 6, ReLU: 5, ResBlock: 4, BottleneckBlock: 5, Conv3d: 6, BatchNorm3d: 6, ReLU: 6, Conv3d: 6, Sequential: 6, BatchNorm3d: 7, Identity: 7, Swish: 6, Conv3d: 6, BatchNorm3d: 6, ReLU: 5, ResBlock: 4, BottleneckBlock: 5, Conv3d: 6, BatchNorm3d: 6, ReLU: 6, Conv3d: 6, Sequential: 6, BatchNorm3d: 7, SqueezeExcitation: 7, Sequential: 8, Conv3d: 9, ReLU: 9, Conv3d: 9, Sigmoid: 9, Swish: 6, Conv3d: 6, BatchNorm3d: 6, ReLU: 5, ResStage: 2, ResBlock: 4, Conv3d: 5, BatchNorm3d: 5, BottleneckBlock: 5, Conv3d: 6, BatchNorm3d: 6, ReLU: 6, Conv3d: 6, Sequential: 6, BatchNorm3d: 7, SqueezeExcitation: 7, Sequential: 8, Conv3d: 9, ReLU: 9, Conv3d: 9, Sigmoid: 9, Swish: 6, Conv3d: 6, BatchNorm3d: 6, ReLU: 5, ResBlock: 4, BottleneckBlock: 5, Conv3d: 6, BatchNorm3d: 6, ReLU: 6, Conv3d: 6, Sequential: 6, BatchNorm3d: 7, Identity: 7, Swish: 6, Conv3d: 6, BatchNorm3d: 6, ReLU: 5, ResBlock: 4, BottleneckBlock: 5, Conv3d: 6, BatchNorm3d: 6, ReLU: 6, Conv3d: 6, Sequential: 6, BatchNorm3d: 7, SqueezeExcitation: 7, Sequential: 8, Conv3d: 9, ReLU: 9, Conv3d: 9, Sigmoid: 9, Swish: 6, Conv3d: 6, BatchNorm3d: 6, ReLU: 5, ResBlock: 4, BottleneckBlock: 5, Conv3d: 6, BatchNorm3d: 6, ReLU: 6, Conv3d: 6, Sequential: 6, BatchNorm3d: 7, Identity: 7, Swish: 6, Conv3d: 6, BatchNorm3d: 6, ReLU: 5, ResBlock: 4, BottleneckBlock: 5, Conv3d: 6, BatchNorm3d: 6, ReLU: 6, Conv3d: 6, Sequential: 6, BatchNorm3d: 7, SqueezeExcitation: 7, Sequential: 8, Conv3d: 9, ReLU: 9, Conv3d: 9, Sigmoid: 9, Swish: 6, Conv3d: 6, BatchNorm3d: 6, ReLU: 5, ResStage: 2, ResBlock: 4, Conv3d: 5, BatchNorm3d: 5, BottleneckBlock: 5, Conv3d: 6, BatchNorm3d: 6, ReLU: 6, Conv3d: 6, Sequential: 6, BatchNorm3d: 7, SqueezeExcitation: 7, Sequential: 8, Conv3d: 9, ReLU: 9, Conv3d: 9, Sigmoid: 9, Swish: 6, Conv3d: 6, BatchNorm3d: 6, ReLU: 5, ResBlock: 4, BottleneckBlock: 5, Conv3d: 6, BatchNorm3d: 6, ReLU: 6, Conv3d: 6, Sequential: 6, BatchNorm3d: 7, Identity: 7, Swish: 6, Conv3d: 6, BatchNorm3d: 6, ReLU: 5, ResBlock: 4, BottleneckBlock: 5, Conv3d: 6, BatchNorm3d: 6, ReLU: 6, Conv3d: 6, Sequential: 6, BatchNorm3d: 7, SqueezeExcitation: 7, Sequential: 8, Conv3d: 9, ReLU: 9, Conv3d: 9, Sigmoid: 9, Swish: 6, Conv3d: 6, BatchNorm3d: 6, ReLU: 5, ResBlock: 4, BottleneckBlock: 5, Conv3d: 6, BatchNorm3d: 6, ReLU: 6, Conv3d: 6, Sequential: 6, BatchNorm3d: 7, Identity: 7, Swish: 6, Conv3d: 6, BatchNorm3d: 6, ReLU: 5, ResBlock: 4, BottleneckBlock: 5, Conv3d: 6, BatchNorm3d: 6, ReLU: 6, Conv3d: 6, Sequential: 6, BatchNorm3d: 7, SqueezeExcitation: 7, Sequential: 8, Conv3d: 9, ReLU: 9, Conv3d: 9, Sigmoid: 9, Swish: 6, Conv3d: 6, BatchNorm3d: 6, ReLU: 5, ResBlock: 4, BottleneckBlock: 5, Conv3d: 6, BatchNorm3d: 6, ReLU: 6, Conv3d: 6, Sequential: 6, BatchNorm3d: 7, Identity: 7, Swish: 6, Conv3d: 6, BatchNorm3d: 6, ReLU: 5, ResBlock: 4, BottleneckBlock: 5, Conv3d: 6, BatchNorm3d: 6, ReLU: 6, Conv3d: 6, Sequential: 6, BatchNorm3d: 7, SqueezeExcitation: 7, Sequential: 8, Conv3d: 9, ReLU: 9, Conv3d: 9, Sigmoid: 9, Swish: 6, Conv3d: 6, BatchNorm3d: 6, ReLU: 5, ResBlock: 4, BottleneckBlock: 5, Conv3d: 6, BatchNorm3d: 6, ReLU: 6, Conv3d: 6, Sequential: 6, BatchNorm3d: 7, Identity: 7, Swish: 6, Conv3d: 6, BatchNorm3d: 6, ReLU: 5, ResBlock: 4, BottleneckBlock: 5, Conv3d: 6, BatchNorm3d: 6, ReLU: 6, Conv3d: 6, Sequential: 6, BatchNorm3d: 7, SqueezeExcitation: 7, Sequential: 8, Conv3d: 9, ReLU: 9, Conv3d: 9, Sigmoid: 9, Swish: 6, Conv3d: 6, BatchNorm3d: 6, ReLU: 5, ResBlock: 4, BottleneckBlock: 5, Conv3d: 6, BatchNorm3d: 6, ReLU: 6, Conv3d: 6, Sequential: 6, BatchNorm3d: 7, Identity: 7, Swish: 6, Conv3d: 6, BatchNorm3d: 6, ReLU: 5, ResBlock: 4, BottleneckBlock: 5, Conv3d: 6, BatchNorm3d: 6, ReLU: 6, Conv3d: 6, Sequential: 6, BatchNorm3d: 7, SqueezeExcitation: 7, Sequential: 8, Conv3d: 9, ReLU: 9, Conv3d: 9, Sigmoid: 9, Swish: 6, Conv3d: 6, BatchNorm3d: 6, ReLU: 5, ResStage: 2, ResBlock: 4, Conv3d: 5, BatchNorm3d: 5, BottleneckBlock: 5, Conv3d: 6, BatchNorm3d: 6, ReLU: 6, Conv3d: 6, Sequential: 6, BatchNorm3d: 7, SqueezeExcitation: 7, Sequential: 8, Conv3d: 9, ReLU: 9, Conv3d: 9, Sigmoid: 9, Swish: 6, Conv3d: 6, BatchNorm3d: 6, ReLU: 5, ResBlock: 4, BottleneckBlock: 5, Conv3d: 6, BatchNorm3d: 6, ReLU: 6, Conv3d: 6, Sequential: 6, BatchNorm3d: 7, Identity: 7, Swish: 6, Conv3d: 6, BatchNorm3d: 6, ReLU: 5, ResBlock: 4, BottleneckBlock: 5, Conv3d: 6, BatchNorm3d: 6, ReLU: 6, Conv3d: 6, Sequential: 6, BatchNorm3d: 7, SqueezeExcitation: 7, Sequential: 8, Conv3d: 9, ReLU: 9, Conv3d: 9, Sigmoid: 9, Swish: 6, Conv3d: 6, BatchNorm3d: 6, ReLU: 5, ResBlock: 4, BottleneckBlock: 5, Conv3d: 6, BatchNorm3d: 6, ReLU: 6, Conv3d: 6, Sequential: 6, BatchNorm3d: 7, Identity: 7, Swish: 6, Conv3d: 6, BatchNorm3d: 6, ReLU: 5, ResBlock: 4, BottleneckBlock: 5, Conv3d: 6, BatchNorm3d: 6, ReLU: 6, Conv3d: 6, Sequential: 6, BatchNorm3d: 7, SqueezeExcitation: 7, Sequential: 8, Conv3d: 9, ReLU: 9, Conv3d: 9, Sigmoid: 9, Swish: 6, Conv3d: 6, BatchNorm3d: 6, ReLU: 5, ResBlock: 4, BottleneckBlock: 5, Conv3d: 6, BatchNorm3d: 6, ReLU: 6, Conv3d: 6, Sequential: 6, BatchNorm3d: 7, Identity: 7, Swish: 6, Conv3d: 6, BatchNorm3d: 6, ReLU: 5, ResBlock: 4, BottleneckBlock: 5, Conv3d: 6, BatchNorm3d: 6, ReLU: 6, Conv3d: 6, Sequential: 6, BatchNorm3d: 7, SqueezeExcitation: 7, Sequential: 8, Conv3d: 9, ReLU: 9, Conv3d: 9, Sigmoid: 9, Swish: 6, Conv3d: 6, BatchNorm3d: 6, ReLU: 5, Conv3d: 4, BatchNorm3d: 4, ReLU: 4]",
     "output_type": "error",
     "traceback": [
      "\u001b[0;31m---------------------------------------------------------------------------\u001b[0m",
      "\u001b[0;31mRuntimeError\u001b[0m                              Traceback (most recent call last)",
      "File \u001b[0;32m/usr/local/lib/python3.9/dist-packages/torchinfo/torchinfo.py:290\u001b[0m, in \u001b[0;36mforward_pass\u001b[0;34m(model, x, batch_dim, cache_forward_pass, device, mode, **kwargs)\u001b[0m\n\u001b[1;32m    289\u001b[0m \u001b[39mif\u001b[39;00m \u001b[39misinstance\u001b[39m(x, (\u001b[39mlist\u001b[39m, \u001b[39mtuple\u001b[39m)):\n\u001b[0;32m--> 290\u001b[0m     _ \u001b[39m=\u001b[39m model\u001b[39m.\u001b[39;49mto(device)(\u001b[39m*\u001b[39;49mx, \u001b[39m*\u001b[39;49m\u001b[39m*\u001b[39;49mkwargs)\n\u001b[1;32m    291\u001b[0m \u001b[39melif\u001b[39;00m \u001b[39misinstance\u001b[39m(x, \u001b[39mdict\u001b[39m):\n",
      "File \u001b[0;32m/usr/local/lib/python3.9/dist-packages/torch/nn/modules/module.py:1120\u001b[0m, in \u001b[0;36mModule._call_impl\u001b[0;34m(self, *input, **kwargs)\u001b[0m\n\u001b[1;32m   1118\u001b[0m     \u001b[39minput\u001b[39m \u001b[39m=\u001b[39m bw_hook\u001b[39m.\u001b[39msetup_input_hook(\u001b[39minput\u001b[39m)\n\u001b[0;32m-> 1120\u001b[0m result \u001b[39m=\u001b[39m forward_call(\u001b[39m*\u001b[39;49m\u001b[39minput\u001b[39;49m, \u001b[39m*\u001b[39;49m\u001b[39m*\u001b[39;49mkwargs)\n\u001b[1;32m   1121\u001b[0m \u001b[39mif\u001b[39;00m _global_forward_hooks \u001b[39mor\u001b[39;00m \u001b[39mself\u001b[39m\u001b[39m.\u001b[39m_forward_hooks:\n",
      "File \u001b[0;32m/usr/local/lib/python3.9/dist-packages/pytorchvideo/models/net.py:43\u001b[0m, in \u001b[0;36mNet.forward\u001b[0;34m(self, x)\u001b[0m\n\u001b[1;32m     42\u001b[0m \u001b[39mfor\u001b[39;00m idx \u001b[39min\u001b[39;00m \u001b[39mrange\u001b[39m(\u001b[39mlen\u001b[39m(\u001b[39mself\u001b[39m\u001b[39m.\u001b[39mblocks)):\n\u001b[0;32m---> 43\u001b[0m     x \u001b[39m=\u001b[39m \u001b[39mself\u001b[39;49m\u001b[39m.\u001b[39;49mblocks[idx](x)\n\u001b[1;32m     44\u001b[0m \u001b[39mreturn\u001b[39;00m x\n",
      "File \u001b[0;32m/usr/local/lib/python3.9/dist-packages/torch/nn/modules/module.py:1120\u001b[0m, in \u001b[0;36mModule._call_impl\u001b[0;34m(self, *input, **kwargs)\u001b[0m\n\u001b[1;32m   1118\u001b[0m     \u001b[39minput\u001b[39m \u001b[39m=\u001b[39m bw_hook\u001b[39m.\u001b[39msetup_input_hook(\u001b[39minput\u001b[39m)\n\u001b[0;32m-> 1120\u001b[0m result \u001b[39m=\u001b[39m forward_call(\u001b[39m*\u001b[39;49m\u001b[39minput\u001b[39;49m, \u001b[39m*\u001b[39;49m\u001b[39m*\u001b[39;49mkwargs)\n\u001b[1;32m   1121\u001b[0m \u001b[39mif\u001b[39;00m _global_forward_hooks \u001b[39mor\u001b[39;00m \u001b[39mself\u001b[39m\u001b[39m.\u001b[39m_forward_hooks:\n",
      "File \u001b[0;32m/usr/local/lib/python3.9/dist-packages/pytorchvideo/models/head.py:374\u001b[0m, in \u001b[0;36mResNetBasicHead.forward\u001b[0;34m(self, x)\u001b[0m\n\u001b[1;32m    373\u001b[0m \u001b[39mif\u001b[39;00m \u001b[39mself\u001b[39m\u001b[39m.\u001b[39mpool \u001b[39mis\u001b[39;00m \u001b[39mnot\u001b[39;00m \u001b[39mNone\u001b[39;00m:\n\u001b[0;32m--> 374\u001b[0m     x \u001b[39m=\u001b[39m \u001b[39mself\u001b[39;49m\u001b[39m.\u001b[39;49mpool(x)\n\u001b[1;32m    375\u001b[0m \u001b[39m# Performs dropout.\u001b[39;00m\n",
      "File \u001b[0;32m/usr/local/lib/python3.9/dist-packages/torch/nn/modules/module.py:1120\u001b[0m, in \u001b[0;36mModule._call_impl\u001b[0;34m(self, *input, **kwargs)\u001b[0m\n\u001b[1;32m   1118\u001b[0m     \u001b[39minput\u001b[39m \u001b[39m=\u001b[39m bw_hook\u001b[39m.\u001b[39msetup_input_hook(\u001b[39minput\u001b[39m)\n\u001b[0;32m-> 1120\u001b[0m result \u001b[39m=\u001b[39m forward_call(\u001b[39m*\u001b[39;49m\u001b[39minput\u001b[39;49m, \u001b[39m*\u001b[39;49m\u001b[39m*\u001b[39;49mkwargs)\n\u001b[1;32m   1121\u001b[0m \u001b[39mif\u001b[39;00m _global_forward_hooks \u001b[39mor\u001b[39;00m \u001b[39mself\u001b[39m\u001b[39m.\u001b[39m_forward_hooks:\n",
      "File \u001b[0;32m/usr/local/lib/python3.9/dist-packages/pytorchvideo/models/x3d.py:797\u001b[0m, in \u001b[0;36mProjectedPool.forward\u001b[0;34m(self, x)\u001b[0m\n\u001b[1;32m    795\u001b[0m     x \u001b[39m=\u001b[39m \u001b[39mself\u001b[39m\u001b[39m.\u001b[39mpre_act(x)\n\u001b[0;32m--> 797\u001b[0m x \u001b[39m=\u001b[39m \u001b[39mself\u001b[39;49m\u001b[39m.\u001b[39;49mpool(x)\n\u001b[1;32m    798\u001b[0m x \u001b[39m=\u001b[39m \u001b[39mself\u001b[39m\u001b[39m.\u001b[39mpost_conv(x)\n",
      "File \u001b[0;32m/usr/local/lib/python3.9/dist-packages/torch/nn/modules/module.py:1120\u001b[0m, in \u001b[0;36mModule._call_impl\u001b[0;34m(self, *input, **kwargs)\u001b[0m\n\u001b[1;32m   1118\u001b[0m     \u001b[39minput\u001b[39m \u001b[39m=\u001b[39m bw_hook\u001b[39m.\u001b[39msetup_input_hook(\u001b[39minput\u001b[39m)\n\u001b[0;32m-> 1120\u001b[0m result \u001b[39m=\u001b[39m forward_call(\u001b[39m*\u001b[39;49m\u001b[39minput\u001b[39;49m, \u001b[39m*\u001b[39;49m\u001b[39m*\u001b[39;49mkwargs)\n\u001b[1;32m   1121\u001b[0m \u001b[39mif\u001b[39;00m _global_forward_hooks \u001b[39mor\u001b[39;00m \u001b[39mself\u001b[39m\u001b[39m.\u001b[39m_forward_hooks:\n",
      "File \u001b[0;32m/usr/local/lib/python3.9/dist-packages/torch/nn/modules/pooling.py:702\u001b[0m, in \u001b[0;36mAvgPool3d.forward\u001b[0;34m(self, input)\u001b[0m\n\u001b[1;32m    701\u001b[0m \u001b[39mdef\u001b[39;00m \u001b[39mforward\u001b[39m(\u001b[39mself\u001b[39m, \u001b[39minput\u001b[39m: Tensor) \u001b[39m-\u001b[39m\u001b[39m>\u001b[39m Tensor:\n\u001b[0;32m--> 702\u001b[0m     \u001b[39mreturn\u001b[39;00m F\u001b[39m.\u001b[39;49mavg_pool3d(\u001b[39minput\u001b[39;49m, \u001b[39mself\u001b[39;49m\u001b[39m.\u001b[39;49mkernel_size, \u001b[39mself\u001b[39;49m\u001b[39m.\u001b[39;49mstride,\n\u001b[1;32m    703\u001b[0m                         \u001b[39mself\u001b[39;49m\u001b[39m.\u001b[39;49mpadding, \u001b[39mself\u001b[39;49m\u001b[39m.\u001b[39;49mceil_mode, \u001b[39mself\u001b[39;49m\u001b[39m.\u001b[39;49mcount_include_pad, \u001b[39mself\u001b[39;49m\u001b[39m.\u001b[39;49mdivisor_override)\n",
      "\u001b[0;31mRuntimeError\u001b[0m: input image (T: 8 H: 8 W: 8) smaller than kernel size (kT: 13 kH: 5 kW: 5)",
      "\nThe above exception was the direct cause of the following exception:\n",
      "\u001b[0;31mRuntimeError\u001b[0m                              Traceback (most recent call last)",
      "\u001b[1;32m/workspace/Walk_Video_PyTorch/project/models/torch_hub.ipynb Cell 8\u001b[0m in \u001b[0;36m<cell line: 12>\u001b[0;34m()\u001b[0m\n\u001b[1;32m      <a href='vscode-notebook-cell://attached-container%2B7b22636f6e7461696e65724e616d65223a222f77616c6b5f766964656f5f67707531222c2273657474696e6773223a7b22686f7374223a227373683a2f2f4c455f4c6162227d7d/workspace/Walk_Video_PyTorch/project/models/torch_hub.ipynb#ch0000007vscode-remote?line=2'>3</a>\u001b[0m batch_size \u001b[39m=\u001b[39m \u001b[39m16\u001b[39m\n\u001b[1;32m      <a href='vscode-notebook-cell://attached-container%2B7b22636f6e7461696e65724e616d65223a222f77616c6b5f766964656f5f67707531222c2273657474696e6773223a7b22686f7374223a227373683a2f2f4c455f4c6162227d7d/workspace/Walk_Video_PyTorch/project/models/torch_hub.ipynb#ch0000007vscode-remote?line=4'>5</a>\u001b[0m \u001b[39m# summayer = summary(\u001b[39;00m\n\u001b[1;32m      <a href='vscode-notebook-cell://attached-container%2B7b22636f6e7461696e65724e616d65223a222f77616c6b5f766964656f5f67707531222c2273657474696e6773223a7b22686f7374223a227373683a2f2f4c455f4c6162227d7d/workspace/Walk_Video_PyTorch/project/models/torch_hub.ipynb#ch0000007vscode-remote?line=5'>6</a>\u001b[0m \u001b[39m#     model, \u001b[39;00m\n\u001b[1;32m      <a href='vscode-notebook-cell://attached-container%2B7b22636f6e7461696e65724e616d65223a222f77616c6b5f766964656f5f67707531222c2273657474696e6773223a7b22686f7374223a227373683a2f2f4c455f4c6162227d7d/workspace/Walk_Video_PyTorch/project/models/torch_hub.ipynb#ch0000007vscode-remote?line=6'>7</a>\u001b[0m \u001b[39m#     input_size=(batch_size, 3, 8, 256, 256), \u001b[39;00m\n\u001b[1;32m      <a href='vscode-notebook-cell://attached-container%2B7b22636f6e7461696e65724e616d65223a222f77616c6b5f766964656f5f67707531222c2273657474696e6773223a7b22686f7374223a227373683a2f2f4c455f4c6162227d7d/workspace/Walk_Video_PyTorch/project/models/torch_hub.ipynb#ch0000007vscode-remote?line=7'>8</a>\u001b[0m \u001b[39m#     col_names=[\"input_size\", \"output_size\", \"num_params\", \"mult_adds\", \"kernel_size\", \"trainable\"],\u001b[39;00m\n\u001b[1;32m      <a href='vscode-notebook-cell://attached-container%2B7b22636f6e7461696e65724e616d65223a222f77616c6b5f766964656f5f67707531222c2273657474696e6773223a7b22686f7374223a227373683a2f2f4c455f4c6162227d7d/workspace/Walk_Video_PyTorch/project/models/torch_hub.ipynb#ch0000007vscode-remote?line=8'>9</a>\u001b[0m     \n\u001b[1;32m     <a href='vscode-notebook-cell://attached-container%2B7b22636f6e7461696e65724e616d65223a222f77616c6b5f766964656f5f67707531222c2273657474696e6773223a7b22686f7374223a227373683a2f2f4c455f4c6162227d7d/workspace/Walk_Video_PyTorch/project/models/torch_hub.ipynb#ch0000007vscode-remote?line=9'>10</a>\u001b[0m \u001b[39m#     )\u001b[39;00m\n\u001b[0;32m---> <a href='vscode-notebook-cell://attached-container%2B7b22636f6e7461696e65724e616d65223a222f77616c6b5f766964656f5f67707531222c2273657474696e6773223a7b22686f7374223a227373683a2f2f4c455f4c6162227d7d/workspace/Walk_Video_PyTorch/project/models/torch_hub.ipynb#ch0000007vscode-remote?line=11'>12</a>\u001b[0m summayer \u001b[39m=\u001b[39m summary(\n\u001b[1;32m     <a href='vscode-notebook-cell://attached-container%2B7b22636f6e7461696e65724e616d65223a222f77616c6b5f766964656f5f67707531222c2273657474696e6773223a7b22686f7374223a227373683a2f2f4c455f4c6162227d7d/workspace/Walk_Video_PyTorch/project/models/torch_hub.ipynb#ch0000007vscode-remote?line=12'>13</a>\u001b[0m     model,\n\u001b[1;32m     <a href='vscode-notebook-cell://attached-container%2B7b22636f6e7461696e65724e616d65223a222f77616c6b5f766964656f5f67707531222c2273657474696e6773223a7b22686f7374223a227373683a2f2f4c455f4c6162227d7d/workspace/Walk_Video_PyTorch/project/models/torch_hub.ipynb#ch0000007vscode-remote?line=13'>14</a>\u001b[0m     input_size\u001b[39m=\u001b[39;49m(batch_size, \u001b[39m3\u001b[39;49m, \u001b[39m8\u001b[39;49m, \u001b[39m256\u001b[39;49m, \u001b[39m256\u001b[39;49m),\n\u001b[1;32m     <a href='vscode-notebook-cell://attached-container%2B7b22636f6e7461696e65724e616d65223a222f77616c6b5f766964656f5f67707531222c2273657474696e6773223a7b22686f7374223a227373683a2f2f4c455f4c6162227d7d/workspace/Walk_Video_PyTorch/project/models/torch_hub.ipynb#ch0000007vscode-remote?line=14'>15</a>\u001b[0m     col_names\u001b[39m=\u001b[39;49m[\u001b[39m\"\u001b[39;49m\u001b[39minput_size\u001b[39;49m\u001b[39m\"\u001b[39;49m, \u001b[39m\"\u001b[39;49m\u001b[39moutput_size\u001b[39;49m\u001b[39m\"\u001b[39;49m, \u001b[39m\"\u001b[39;49m\u001b[39mnum_params\u001b[39;49m\u001b[39m\"\u001b[39;49m, \u001b[39m\"\u001b[39;49m\u001b[39mkernel_size\u001b[39;49m\u001b[39m\"\u001b[39;49m]\n\u001b[1;32m     <a href='vscode-notebook-cell://attached-container%2B7b22636f6e7461696e65724e616d65223a222f77616c6b5f766964656f5f67707531222c2273657474696e6773223a7b22686f7374223a227373683a2f2f4c455f4c6162227d7d/workspace/Walk_Video_PyTorch/project/models/torch_hub.ipynb#ch0000007vscode-remote?line=15'>16</a>\u001b[0m )\n\u001b[1;32m     <a href='vscode-notebook-cell://attached-container%2B7b22636f6e7461696e65724e616d65223a222f77616c6b5f766964656f5f67707531222c2273657474696e6773223a7b22686f7374223a227373683a2f2f4c455f4c6162227d7d/workspace/Walk_Video_PyTorch/project/models/torch_hub.ipynb#ch0000007vscode-remote?line=17'>18</a>\u001b[0m \u001b[39mprint\u001b[39m(summayer)\n",
      "File \u001b[0;32m/usr/local/lib/python3.9/dist-packages/torchinfo/torchinfo.py:218\u001b[0m, in \u001b[0;36msummary\u001b[0;34m(model, input_size, input_data, batch_dim, cache_forward_pass, col_names, col_width, depth, device, dtypes, mode, row_settings, verbose, **kwargs)\u001b[0m\n\u001b[1;32m    211\u001b[0m validate_user_params(\n\u001b[1;32m    212\u001b[0m     input_data, input_size, columns, col_width, device, dtypes, verbose\n\u001b[1;32m    213\u001b[0m )\n\u001b[1;32m    215\u001b[0m x, correct_input_size \u001b[39m=\u001b[39m process_input(\n\u001b[1;32m    216\u001b[0m     input_data, input_size, batch_dim, device, dtypes\n\u001b[1;32m    217\u001b[0m )\n\u001b[0;32m--> 218\u001b[0m summary_list \u001b[39m=\u001b[39m forward_pass(\n\u001b[1;32m    219\u001b[0m     model, x, batch_dim, cache_forward_pass, device, model_mode, \u001b[39m*\u001b[39;49m\u001b[39m*\u001b[39;49mkwargs\n\u001b[1;32m    220\u001b[0m )\n\u001b[1;32m    221\u001b[0m formatting \u001b[39m=\u001b[39m FormattingOptions(depth, verbose, columns, col_width, rows)\n\u001b[1;32m    222\u001b[0m results \u001b[39m=\u001b[39m ModelStatistics(\n\u001b[1;32m    223\u001b[0m     summary_list, correct_input_size, get_total_memory_used(x), formatting\n\u001b[1;32m    224\u001b[0m )\n",
      "File \u001b[0;32m/usr/local/lib/python3.9/dist-packages/torchinfo/torchinfo.py:299\u001b[0m, in \u001b[0;36mforward_pass\u001b[0;34m(model, x, batch_dim, cache_forward_pass, device, mode, **kwargs)\u001b[0m\n\u001b[1;32m    297\u001b[0m \u001b[39mexcept\u001b[39;00m \u001b[39mException\u001b[39;00m \u001b[39mas\u001b[39;00m e:\n\u001b[1;32m    298\u001b[0m     executed_layers \u001b[39m=\u001b[39m [layer \u001b[39mfor\u001b[39;00m layer \u001b[39min\u001b[39;00m summary_list \u001b[39mif\u001b[39;00m layer\u001b[39m.\u001b[39mexecuted]\n\u001b[0;32m--> 299\u001b[0m     \u001b[39mraise\u001b[39;00m \u001b[39mRuntimeError\u001b[39;00m(\n\u001b[1;32m    300\u001b[0m         \u001b[39m\"\u001b[39m\u001b[39mFailed to run torchinfo. See above stack traces for more details. \u001b[39m\u001b[39m\"\u001b[39m\n\u001b[1;32m    301\u001b[0m         \u001b[39mf\u001b[39m\u001b[39m\"\u001b[39m\u001b[39mExecuted layers up to: \u001b[39m\u001b[39m{\u001b[39;00mexecuted_layers\u001b[39m}\u001b[39;00m\u001b[39m\"\u001b[39m\n\u001b[1;32m    302\u001b[0m     ) \u001b[39mfrom\u001b[39;00m \u001b[39me\u001b[39;00m\n\u001b[1;32m    303\u001b[0m \u001b[39mfinally\u001b[39;00m:\n\u001b[1;32m    304\u001b[0m     \u001b[39mif\u001b[39;00m hooks:\n",
      "\u001b[0;31mRuntimeError\u001b[0m: Failed to run torchinfo. See above stack traces for more details. Executed layers up to: [ResNetBasicStem: 2, Conv2plus1d: 3, Conv3d: 4, Conv3d: 4, BatchNorm3d: 3, ReLU: 3, ResStage: 2, ResBlock: 4, Conv3d: 5, BottleneckBlock: 5, Conv3d: 6, BatchNorm3d: 6, ReLU: 6, Conv3d: 6, Sequential: 6, BatchNorm3d: 7, SqueezeExcitation: 7, Sequential: 8, Conv3d: 9, ReLU: 9, Conv3d: 9, Sigmoid: 9, Swish: 6, Conv3d: 6, BatchNorm3d: 6, ReLU: 5, ResBlock: 4, BottleneckBlock: 5, Conv3d: 6, BatchNorm3d: 6, ReLU: 6, Conv3d: 6, Sequential: 6, BatchNorm3d: 7, Identity: 7, Swish: 6, Conv3d: 6, BatchNorm3d: 6, ReLU: 5, ResBlock: 4, BottleneckBlock: 5, Conv3d: 6, BatchNorm3d: 6, ReLU: 6, Conv3d: 6, Sequential: 6, BatchNorm3d: 7, SqueezeExcitation: 7, Sequential: 8, Conv3d: 9, ReLU: 9, Conv3d: 9, Sigmoid: 9, Swish: 6, Conv3d: 6, BatchNorm3d: 6, ReLU: 5, ResStage: 2, ResBlock: 4, Conv3d: 5, BatchNorm3d: 5, BottleneckBlock: 5, Conv3d: 6, BatchNorm3d: 6, ReLU: 6, Conv3d: 6, Sequential: 6, BatchNorm3d: 7, SqueezeExcitation: 7, Sequential: 8, Conv3d: 9, ReLU: 9, Conv3d: 9, Sigmoid: 9, Swish: 6, Conv3d: 6, BatchNorm3d: 6, ReLU: 5, ResBlock: 4, BottleneckBlock: 5, Conv3d: 6, BatchNorm3d: 6, ReLU: 6, Conv3d: 6, Sequential: 6, BatchNorm3d: 7, Identity: 7, Swish: 6, Conv3d: 6, BatchNorm3d: 6, ReLU: 5, ResBlock: 4, BottleneckBlock: 5, Conv3d: 6, BatchNorm3d: 6, ReLU: 6, Conv3d: 6, Sequential: 6, BatchNorm3d: 7, SqueezeExcitation: 7, Sequential: 8, Conv3d: 9, ReLU: 9, Conv3d: 9, Sigmoid: 9, Swish: 6, Conv3d: 6, BatchNorm3d: 6, ReLU: 5, ResBlock: 4, BottleneckBlock: 5, Conv3d: 6, BatchNorm3d: 6, ReLU: 6, Conv3d: 6, Sequential: 6, BatchNorm3d: 7, Identity: 7, Swish: 6, Conv3d: 6, BatchNorm3d: 6, ReLU: 5, ResBlock: 4, BottleneckBlock: 5, Conv3d: 6, BatchNorm3d: 6, ReLU: 6, Conv3d: 6, Sequential: 6, BatchNorm3d: 7, SqueezeExcitation: 7, Sequential: 8, Conv3d: 9, ReLU: 9, Conv3d: 9, Sigmoid: 9, Swish: 6, Conv3d: 6, BatchNorm3d: 6, ReLU: 5, ResStage: 2, ResBlock: 4, Conv3d: 5, BatchNorm3d: 5, BottleneckBlock: 5, Conv3d: 6, BatchNorm3d: 6, ReLU: 6, Conv3d: 6, Sequential: 6, BatchNorm3d: 7, SqueezeExcitation: 7, Sequential: 8, Conv3d: 9, ReLU: 9, Conv3d: 9, Sigmoid: 9, Swish: 6, Conv3d: 6, BatchNorm3d: 6, ReLU: 5, ResBlock: 4, BottleneckBlock: 5, Conv3d: 6, BatchNorm3d: 6, ReLU: 6, Conv3d: 6, Sequential: 6, BatchNorm3d: 7, Identity: 7, Swish: 6, Conv3d: 6, BatchNorm3d: 6, ReLU: 5, ResBlock: 4, BottleneckBlock: 5, Conv3d: 6, BatchNorm3d: 6, ReLU: 6, Conv3d: 6, Sequential: 6, BatchNorm3d: 7, SqueezeExcitation: 7, Sequential: 8, Conv3d: 9, ReLU: 9, Conv3d: 9, Sigmoid: 9, Swish: 6, Conv3d: 6, BatchNorm3d: 6, ReLU: 5, ResBlock: 4, BottleneckBlock: 5, Conv3d: 6, BatchNorm3d: 6, ReLU: 6, Conv3d: 6, Sequential: 6, BatchNorm3d: 7, Identity: 7, Swish: 6, Conv3d: 6, BatchNorm3d: 6, ReLU: 5, ResBlock: 4, BottleneckBlock: 5, Conv3d: 6, BatchNorm3d: 6, ReLU: 6, Conv3d: 6, Sequential: 6, BatchNorm3d: 7, SqueezeExcitation: 7, Sequential: 8, Conv3d: 9, ReLU: 9, Conv3d: 9, Sigmoid: 9, Swish: 6, Conv3d: 6, BatchNorm3d: 6, ReLU: 5, ResBlock: 4, BottleneckBlock: 5, Conv3d: 6, BatchNorm3d: 6, ReLU: 6, Conv3d: 6, Sequential: 6, BatchNorm3d: 7, Identity: 7, Swish: 6, Conv3d: 6, BatchNorm3d: 6, ReLU: 5, ResBlock: 4, BottleneckBlock: 5, Conv3d: 6, BatchNorm3d: 6, ReLU: 6, Conv3d: 6, Sequential: 6, BatchNorm3d: 7, SqueezeExcitation: 7, Sequential: 8, Conv3d: 9, ReLU: 9, Conv3d: 9, Sigmoid: 9, Swish: 6, Conv3d: 6, BatchNorm3d: 6, ReLU: 5, ResBlock: 4, BottleneckBlock: 5, Conv3d: 6, BatchNorm3d: 6, ReLU: 6, Conv3d: 6, Sequential: 6, BatchNorm3d: 7, Identity: 7, Swish: 6, Conv3d: 6, BatchNorm3d: 6, ReLU: 5, ResBlock: 4, BottleneckBlock: 5, Conv3d: 6, BatchNorm3d: 6, ReLU: 6, Conv3d: 6, Sequential: 6, BatchNorm3d: 7, SqueezeExcitation: 7, Sequential: 8, Conv3d: 9, ReLU: 9, Conv3d: 9, Sigmoid: 9, Swish: 6, Conv3d: 6, BatchNorm3d: 6, ReLU: 5, ResBlock: 4, BottleneckBlock: 5, Conv3d: 6, BatchNorm3d: 6, ReLU: 6, Conv3d: 6, Sequential: 6, BatchNorm3d: 7, Identity: 7, Swish: 6, Conv3d: 6, BatchNorm3d: 6, ReLU: 5, ResBlock: 4, BottleneckBlock: 5, Conv3d: 6, BatchNorm3d: 6, ReLU: 6, Conv3d: 6, Sequential: 6, BatchNorm3d: 7, SqueezeExcitation: 7, Sequential: 8, Conv3d: 9, ReLU: 9, Conv3d: 9, Sigmoid: 9, Swish: 6, Conv3d: 6, BatchNorm3d: 6, ReLU: 5, ResStage: 2, ResBlock: 4, Conv3d: 5, BatchNorm3d: 5, BottleneckBlock: 5, Conv3d: 6, BatchNorm3d: 6, ReLU: 6, Conv3d: 6, Sequential: 6, BatchNorm3d: 7, SqueezeExcitation: 7, Sequential: 8, Conv3d: 9, ReLU: 9, Conv3d: 9, Sigmoid: 9, Swish: 6, Conv3d: 6, BatchNorm3d: 6, ReLU: 5, ResBlock: 4, BottleneckBlock: 5, Conv3d: 6, BatchNorm3d: 6, ReLU: 6, Conv3d: 6, Sequential: 6, BatchNorm3d: 7, Identity: 7, Swish: 6, Conv3d: 6, BatchNorm3d: 6, ReLU: 5, ResBlock: 4, BottleneckBlock: 5, Conv3d: 6, BatchNorm3d: 6, ReLU: 6, Conv3d: 6, Sequential: 6, BatchNorm3d: 7, SqueezeExcitation: 7, Sequential: 8, Conv3d: 9, ReLU: 9, Conv3d: 9, Sigmoid: 9, Swish: 6, Conv3d: 6, BatchNorm3d: 6, ReLU: 5, ResBlock: 4, BottleneckBlock: 5, Conv3d: 6, BatchNorm3d: 6, ReLU: 6, Conv3d: 6, Sequential: 6, BatchNorm3d: 7, Identity: 7, Swish: 6, Conv3d: 6, BatchNorm3d: 6, ReLU: 5, ResBlock: 4, BottleneckBlock: 5, Conv3d: 6, BatchNorm3d: 6, ReLU: 6, Conv3d: 6, Sequential: 6, BatchNorm3d: 7, SqueezeExcitation: 7, Sequential: 8, Conv3d: 9, ReLU: 9, Conv3d: 9, Sigmoid: 9, Swish: 6, Conv3d: 6, BatchNorm3d: 6, ReLU: 5, ResBlock: 4, BottleneckBlock: 5, Conv3d: 6, BatchNorm3d: 6, ReLU: 6, Conv3d: 6, Sequential: 6, BatchNorm3d: 7, Identity: 7, Swish: 6, Conv3d: 6, BatchNorm3d: 6, ReLU: 5, ResBlock: 4, BottleneckBlock: 5, Conv3d: 6, BatchNorm3d: 6, ReLU: 6, Conv3d: 6, Sequential: 6, BatchNorm3d: 7, SqueezeExcitation: 7, Sequential: 8, Conv3d: 9, ReLU: 9, Conv3d: 9, Sigmoid: 9, Swish: 6, Conv3d: 6, BatchNorm3d: 6, ReLU: 5, Conv3d: 4, BatchNorm3d: 4, ReLU: 4]"
     ]
    }
   ],
   "source": [
    "from torchinfo import summary\n",
    "\n",
    "batch_size = 4\n",
    "\n",
    "# summayer = summary(\n",
    "#     model, \n",
    "#     input_size=(batch_size, 3, 8, 256, 256), \n",
    "#     col_names=[\"input_size\", \"output_size\", \"num_params\", \"mult_adds\", \"kernel_size\", \"trainable\"],\n",
    "    \n",
    "#     )\n",
    "\n",
    "summayer = summary(\n",
    "    model,\n",
    "    input_size=(batch_size, 3, 8, 256, 256),\n",
    "    col_names=[\"input_size\", \"output_size\", \"num_params\", \"kernel_size\"]\n",
    ")\n",
    "\n",
    "print(summayer)\n"
   ]
  },
  {
   "cell_type": "markdown",
   "metadata": {},
   "source": [
    "# The TorhcHub Module Zoo"
   ]
  },
  {
   "cell_type": "code",
   "execution_count": 8,
   "metadata": {},
   "outputs": [
    {
     "name": "stderr",
     "output_type": "stream",
     "text": [
      "Downloading: \"https://github.com/facebookresearch/pytorchvideo/archive/main.zip\" to /root/.cache/torch/hub/main.zip\n"
     ]
    }
   ],
   "source": [
    "model_name = 'x3d_s'\n",
    "model = torch.hub.load('facebookresearch/pytorchvideo', model_name, pretrained=False)"
   ]
  },
  {
   "cell_type": "code",
   "execution_count": 9,
   "metadata": {},
   "outputs": [
    {
     "ename": "KeyboardInterrupt",
     "evalue": "",
     "output_type": "error",
     "traceback": [
      "\u001b[0;31m---------------------------------------------------------------------------\u001b[0m",
      "\u001b[0;31mKeyboardInterrupt\u001b[0m                         Traceback (most recent call last)",
      "\u001b[1;32m/workspace/Walk_Video_PyTorch/project/models/torch_hub.ipynb Cell 11\u001b[0m in \u001b[0;36m<cell line: 3>\u001b[0;34m()\u001b[0m\n\u001b[1;32m      <a href='vscode-notebook-cell://attached-container%2B7b22636f6e7461696e65724e616d65223a222f77616c6b5f766964656f5f67707531222c2273657474696e6773223a7b22686f7374223a227373683a2f2f4c455f4c6162227d7d/workspace/Walk_Video_PyTorch/project/models/torch_hub.ipynb#ch0000010vscode-remote?line=0'>1</a>\u001b[0m \u001b[39mfrom\u001b[39;00m \u001b[39mtorchvision\u001b[39;00m\u001b[39m.\u001b[39;00m\u001b[39mmodels\u001b[39;00m \u001b[39mimport\u001b[39;00m video\n\u001b[0;32m----> <a href='vscode-notebook-cell://attached-container%2B7b22636f6e7461696e65724e616d65223a222f77616c6b5f766964656f5f67707531222c2273657474696e6773223a7b22686f7374223a227373683a2f2f4c455f4c6162227d7d/workspace/Walk_Video_PyTorch/project/models/torch_hub.ipynb#ch0000010vscode-remote?line=2'>3</a>\u001b[0m model \u001b[39m=\u001b[39m video\u001b[39m.\u001b[39;49mr3d_18(pretrained\u001b[39m=\u001b[39;49m\u001b[39mFalse\u001b[39;49;00m)\n",
      "File \u001b[0;32m/usr/local/lib/python3.9/dist-packages/torchvision/models/video/resnet.py:333\u001b[0m, in \u001b[0;36mr3d_18\u001b[0;34m(pretrained, progress, **kwargs)\u001b[0m\n\u001b[1;32m    321\u001b[0m \u001b[39mdef\u001b[39;00m \u001b[39mr3d_18\u001b[39m(pretrained: \u001b[39mbool\u001b[39m \u001b[39m=\u001b[39m \u001b[39mFalse\u001b[39;00m, progress: \u001b[39mbool\u001b[39m \u001b[39m=\u001b[39m \u001b[39mTrue\u001b[39;00m, \u001b[39m*\u001b[39m\u001b[39m*\u001b[39mkwargs: Any) \u001b[39m-\u001b[39m\u001b[39m>\u001b[39m VideoResNet:\n\u001b[1;32m    322\u001b[0m     \u001b[39m\"\"\"Construct 18 layer Resnet3D model as in\u001b[39;00m\n\u001b[1;32m    323\u001b[0m \u001b[39m    https://arxiv.org/abs/1711.11248\u001b[39;00m\n\u001b[1;32m    324\u001b[0m \n\u001b[0;32m   (...)\u001b[0m\n\u001b[1;32m    330\u001b[0m \u001b[39m        nn.Module: R3D-18 network\u001b[39;00m\n\u001b[1;32m    331\u001b[0m \u001b[39m    \"\"\"\u001b[39;00m\n\u001b[0;32m--> 333\u001b[0m     \u001b[39mreturn\u001b[39;00m _video_resnet(\u001b[39m'\u001b[39;49m\u001b[39mr3d_18\u001b[39;49m\u001b[39m'\u001b[39;49m,\n\u001b[1;32m    334\u001b[0m                          pretrained, progress,\n\u001b[1;32m    335\u001b[0m                          block\u001b[39m=\u001b[39;49mBasicBlock,\n\u001b[1;32m    336\u001b[0m                          conv_makers\u001b[39m=\u001b[39;49m[Conv3DSimple] \u001b[39m*\u001b[39;49m \u001b[39m4\u001b[39;49m,\n\u001b[1;32m    337\u001b[0m                          layers\u001b[39m=\u001b[39;49m[\u001b[39m2\u001b[39;49m, \u001b[39m2\u001b[39;49m, \u001b[39m2\u001b[39;49m, \u001b[39m2\u001b[39;49m],\n\u001b[1;32m    338\u001b[0m                          stem\u001b[39m=\u001b[39;49mBasicStem, \u001b[39m*\u001b[39;49m\u001b[39m*\u001b[39;49mkwargs)\n",
      "File \u001b[0;32m/usr/local/lib/python3.9/dist-packages/torchvision/models/video/resnet.py:312\u001b[0m, in \u001b[0;36m_video_resnet\u001b[0;34m(arch, pretrained, progress, **kwargs)\u001b[0m\n\u001b[1;32m    311\u001b[0m \u001b[39mdef\u001b[39;00m \u001b[39m_video_resnet\u001b[39m(arch: \u001b[39mstr\u001b[39m, pretrained: \u001b[39mbool\u001b[39m \u001b[39m=\u001b[39m \u001b[39mFalse\u001b[39;00m, progress: \u001b[39mbool\u001b[39m \u001b[39m=\u001b[39m \u001b[39mTrue\u001b[39;00m, \u001b[39m*\u001b[39m\u001b[39m*\u001b[39mkwargs: Any) \u001b[39m-\u001b[39m\u001b[39m>\u001b[39m VideoResNet:\n\u001b[0;32m--> 312\u001b[0m     model \u001b[39m=\u001b[39m VideoResNet(\u001b[39m*\u001b[39;49m\u001b[39m*\u001b[39;49mkwargs)\n\u001b[1;32m    314\u001b[0m     \u001b[39mif\u001b[39;00m pretrained:\n\u001b[1;32m    315\u001b[0m         state_dict \u001b[39m=\u001b[39m load_state_dict_from_url(model_urls[arch],\n\u001b[1;32m    316\u001b[0m                                               progress\u001b[39m=\u001b[39mprogress)\n",
      "File \u001b[0;32m/usr/local/lib/python3.9/dist-packages/torchvision/models/video/resnet.py:248\u001b[0m, in \u001b[0;36mVideoResNet.__init__\u001b[0;34m(self, block, conv_makers, layers, stem, num_classes, zero_init_residual)\u001b[0m\n\u001b[1;32m    245\u001b[0m \u001b[39mself\u001b[39m\u001b[39m.\u001b[39mfc \u001b[39m=\u001b[39m nn\u001b[39m.\u001b[39mLinear(\u001b[39m512\u001b[39m \u001b[39m*\u001b[39m block\u001b[39m.\u001b[39mexpansion, num_classes)\n\u001b[1;32m    247\u001b[0m \u001b[39m# init weights\u001b[39;00m\n\u001b[0;32m--> 248\u001b[0m \u001b[39mself\u001b[39;49m\u001b[39m.\u001b[39;49m_initialize_weights()\n\u001b[1;32m    250\u001b[0m \u001b[39mif\u001b[39;00m zero_init_residual:\n\u001b[1;32m    251\u001b[0m     \u001b[39mfor\u001b[39;00m m \u001b[39min\u001b[39;00m \u001b[39mself\u001b[39m\u001b[39m.\u001b[39mmodules():\n",
      "File \u001b[0;32m/usr/local/lib/python3.9/dist-packages/torchvision/models/video/resnet.py:299\u001b[0m, in \u001b[0;36mVideoResNet._initialize_weights\u001b[0;34m(self)\u001b[0m\n\u001b[1;32m    297\u001b[0m \u001b[39mfor\u001b[39;00m m \u001b[39min\u001b[39;00m \u001b[39mself\u001b[39m\u001b[39m.\u001b[39mmodules():\n\u001b[1;32m    298\u001b[0m     \u001b[39mif\u001b[39;00m \u001b[39misinstance\u001b[39m(m, nn\u001b[39m.\u001b[39mConv3d):\n\u001b[0;32m--> 299\u001b[0m         nn\u001b[39m.\u001b[39;49minit\u001b[39m.\u001b[39;49mkaiming_normal_(m\u001b[39m.\u001b[39;49mweight, mode\u001b[39m=\u001b[39;49m\u001b[39m'\u001b[39;49m\u001b[39mfan_out\u001b[39;49m\u001b[39m'\u001b[39;49m,\n\u001b[1;32m    300\u001b[0m                                 nonlinearity\u001b[39m=\u001b[39;49m\u001b[39m'\u001b[39;49m\u001b[39mrelu\u001b[39;49m\u001b[39m'\u001b[39;49m)\n\u001b[1;32m    301\u001b[0m         \u001b[39mif\u001b[39;00m m\u001b[39m.\u001b[39mbias \u001b[39mis\u001b[39;00m \u001b[39mnot\u001b[39;00m \u001b[39mNone\u001b[39;00m:\n\u001b[1;32m    302\u001b[0m             nn\u001b[39m.\u001b[39minit\u001b[39m.\u001b[39mconstant_(m\u001b[39m.\u001b[39mbias, \u001b[39m0\u001b[39m)\n",
      "File \u001b[0;32m/usr/local/lib/python3.9/dist-packages/torch/nn/init.py:432\u001b[0m, in \u001b[0;36mkaiming_normal_\u001b[0;34m(tensor, a, mode, nonlinearity)\u001b[0m\n\u001b[1;32m    430\u001b[0m std \u001b[39m=\u001b[39m gain \u001b[39m/\u001b[39m math\u001b[39m.\u001b[39msqrt(fan)\n\u001b[1;32m    431\u001b[0m \u001b[39mwith\u001b[39;00m torch\u001b[39m.\u001b[39mno_grad():\n\u001b[0;32m--> 432\u001b[0m     \u001b[39mreturn\u001b[39;00m tensor\u001b[39m.\u001b[39;49mnormal_(\u001b[39m0\u001b[39;49m, std)\n",
      "\u001b[0;31mKeyboardInterrupt\u001b[0m: "
     ]
    }
   ],
   "source": [
    "from torchvision.models import video\n",
    "\n",
    "model = video.r3d_18(pretrained=False)"
   ]
  },
  {
   "cell_type": "code",
   "execution_count": null,
   "metadata": {},
   "outputs": [
    {
     "name": "stdout",
     "output_type": "stream",
     "text": [
      "==========================================================================================\n",
      "Layer (type:depth-idx)                   Output Shape              Param #\n",
      "==========================================================================================\n",
      "VideoResNet                              [16, 400]                 --\n",
      "├─BasicStem: 1-1                         [16, 64, 8, 128, 128]     --\n",
      "│    └─Conv3d: 2-1                       [16, 64, 8, 128, 128]     28,224\n",
      "│    └─BatchNorm3d: 2-2                  [16, 64, 8, 128, 128]     128\n",
      "│    └─ReLU: 2-3                         [16, 64, 8, 128, 128]     --\n",
      "├─Sequential: 1-2                        [16, 64, 8, 128, 128]     --\n",
      "│    └─BasicBlock: 2-4                   [16, 64, 8, 128, 128]     --\n",
      "│    │    └─Sequential: 3-1              [16, 64, 8, 128, 128]     110,720\n",
      "│    │    └─Sequential: 3-2              [16, 64, 8, 128, 128]     110,720\n",
      "│    │    └─ReLU: 3-3                    [16, 64, 8, 128, 128]     --\n",
      "│    └─BasicBlock: 2-5                   [16, 64, 8, 128, 128]     --\n",
      "│    │    └─Sequential: 3-4              [16, 64, 8, 128, 128]     110,720\n",
      "│    │    └─Sequential: 3-5              [16, 64, 8, 128, 128]     110,720\n",
      "│    │    └─ReLU: 3-6                    [16, 64, 8, 128, 128]     --\n",
      "├─Sequential: 1-3                        [16, 128, 4, 64, 64]      --\n",
      "│    └─BasicBlock: 2-6                   [16, 128, 4, 64, 64]      --\n",
      "│    │    └─Sequential: 3-7              [16, 128, 4, 64, 64]      221,440\n",
      "│    │    └─Sequential: 3-8              [16, 128, 4, 64, 64]      442,624\n",
      "│    │    └─Sequential: 3-9              [16, 128, 4, 64, 64]      8,448\n",
      "│    │    └─ReLU: 3-10                   [16, 128, 4, 64, 64]      --\n",
      "│    └─BasicBlock: 2-7                   [16, 128, 4, 64, 64]      --\n",
      "│    │    └─Sequential: 3-11             [16, 128, 4, 64, 64]      442,624\n",
      "│    │    └─Sequential: 3-12             [16, 128, 4, 64, 64]      442,624\n",
      "│    │    └─ReLU: 3-13                   [16, 128, 4, 64, 64]      --\n",
      "├─Sequential: 1-4                        [16, 256, 2, 32, 32]      --\n",
      "│    └─BasicBlock: 2-8                   [16, 256, 2, 32, 32]      --\n",
      "│    │    └─Sequential: 3-14             [16, 256, 2, 32, 32]      885,248\n",
      "│    │    └─Sequential: 3-15             [16, 256, 2, 32, 32]      1,769,984\n",
      "│    │    └─Sequential: 3-16             [16, 256, 2, 32, 32]      33,280\n",
      "│    │    └─ReLU: 3-17                   [16, 256, 2, 32, 32]      --\n",
      "│    └─BasicBlock: 2-9                   [16, 256, 2, 32, 32]      --\n",
      "│    │    └─Sequential: 3-18             [16, 256, 2, 32, 32]      1,769,984\n",
      "│    │    └─Sequential: 3-19             [16, 256, 2, 32, 32]      1,769,984\n",
      "│    │    └─ReLU: 3-20                   [16, 256, 2, 32, 32]      --\n",
      "├─Sequential: 1-5                        [16, 512, 1, 16, 16]      --\n",
      "│    └─BasicBlock: 2-10                  [16, 512, 1, 16, 16]      --\n",
      "│    │    └─Sequential: 3-21             [16, 512, 1, 16, 16]      3,539,968\n",
      "│    │    └─Sequential: 3-22             [16, 512, 1, 16, 16]      7,078,912\n",
      "│    │    └─Sequential: 3-23             [16, 512, 1, 16, 16]      132,096\n",
      "│    │    └─ReLU: 3-24                   [16, 512, 1, 16, 16]      --\n",
      "│    └─BasicBlock: 2-11                  [16, 512, 1, 16, 16]      --\n",
      "│    │    └─Sequential: 3-25             [16, 512, 1, 16, 16]      7,078,912\n",
      "│    │    └─Sequential: 3-26             [16, 512, 1, 16, 16]      7,078,912\n",
      "│    │    └─ReLU: 3-27                   [16, 512, 1, 16, 16]      --\n",
      "├─AdaptiveAvgPool3d: 1-6                 [16, 512, 1, 1, 1]        --\n",
      "├─Linear: 1-7                            [16, 400]                 205,200\n",
      "==========================================================================================\n",
      "Total params: 33,371,472\n",
      "Trainable params: 33,371,472\n",
      "Non-trainable params: 0\n",
      "Total mult-adds (T): 1.70\n",
      "==========================================================================================\n",
      "Input size (MB): 100.66\n",
      "Forward/backward pass size (MB): 14260.68\n",
      "Params size (MB): 133.49\n",
      "Estimated Total Size (MB): 14494.83\n",
      "==========================================================================================\n"
     ]
    }
   ],
   "source": [
    "result = summary(model, input_size=(batch_size, 3, 8, 256, 256))\n",
    "\n",
    "print(result)"
   ]
  }
 ],
 "metadata": {
  "interpreter": {
   "hash": "767d51c1340bd893661ea55ea3124f6de3c7a262a8b4abca0554b478b1e2ff90"
  },
  "kernelspec": {
   "display_name": "Python 3.9.12 64-bit",
   "language": "python",
   "name": "python3"
  },
  "language_info": {
   "codemirror_mode": {
    "name": "ipython",
    "version": 3
   },
   "file_extension": ".py",
   "mimetype": "text/x-python",
   "name": "python",
   "nbconvert_exporter": "python",
   "pygments_lexer": "ipython3",
   "version": "3.9.12"
  },
  "orig_nbformat": 4
 },
 "nbformat": 4,
 "nbformat_minor": 2
}
