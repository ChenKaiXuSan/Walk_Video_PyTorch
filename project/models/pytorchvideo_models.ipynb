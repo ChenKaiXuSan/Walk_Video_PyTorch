{
 "cells": [
  {
   "cell_type": "code",
   "execution_count": 24,
   "metadata": {},
   "outputs": [],
   "source": [
    "import pytorchvideo.models as models\n",
    "import torch\n",
    "import torch.nn as nn\n",
    "import pytorchvideo\n",
    "import torch.nn.functional as F\n",
    "\n",
    "from pytorch_lightning import LightningModule\n",
    "import pytorch_lightning"
   ]
  },
  {
   "cell_type": "code",
   "execution_count": 25,
   "metadata": {},
   "outputs": [
    {
     "name": "stdout",
     "output_type": "stream",
     "text": [
      "/workspace/Walk_Video_PyTorch/project\n"
     ]
    }
   ],
   "source": [
    "%cd /workspace/Walk_Video_PyTorch/project/"
   ]
  },
  {
   "cell_type": "code",
   "execution_count": 26,
   "metadata": {},
   "outputs": [],
   "source": [
    "resnet = models.create_resnet()"
   ]
  },
  {
   "cell_type": "code",
   "execution_count": 27,
   "metadata": {},
   "outputs": [],
   "source": [
    "input_tensor = torch.zeros(2, 3, 8, 224, 224)\n",
    "output = resnet(input_tensor)"
   ]
  },
  {
   "cell_type": "code",
   "execution_count": 28,
   "metadata": {},
   "outputs": [
    {
     "data": {
      "text/plain": [
       "torch.Size([2, 400])"
      ]
     },
     "execution_count": 28,
     "metadata": {},
     "output_type": "execute_result"
    }
   ],
   "source": [
    "output.shape"
   ]
  },
  {
   "cell_type": "code",
   "execution_count": 29,
   "metadata": {},
   "outputs": [],
   "source": [
    "def make_walk_resnet():\n",
    "    return pytorchvideo.models.resnet.create_resnet(\n",
    "        input_channel = 3, \n",
    "        model_depth = 50, \n",
    "        model_num_class = 2, \n",
    "        norm = nn.BatchNorm3d,\n",
    "        activation=nn.ReLU,\n",
    "    )"
   ]
  },
  {
   "cell_type": "code",
   "execution_count": 30,
   "metadata": {},
   "outputs": [],
   "source": [
    "class WalkVideoClassificationLightningModule(LightningModule):\n",
    "    def __init__(self):\n",
    "        super().__init__()\n",
    "        self.model = make_walk_resnet()\n",
    "\n",
    "    def forward(self, x):\n",
    "        return self.model(x)\n",
    "\n",
    "    def training_step(self, batch, batch_idx):\n",
    "        y_hat = self.model(batch[\"video\"])\n",
    "\n",
    "        loss = F.cross_entropy(y_hat, batch[\"label\"])\n",
    "\n",
    "        self.log(\"train_loss\", loss.item())\n",
    "\n",
    "        return loss\n",
    "\n",
    "    def validation_step(self, batch, batch_idx):\n",
    "        y_hat = self.model(batch[\"video\"])\n",
    "        loss = F.cross_entropy(y_hat, batch[\"label\"])\n",
    "        self.log(\"val_loss\", loss)\n",
    "        return loss\n",
    "\n",
    "    def configure_optimizers(self):\n",
    "        return torch.optim.Adam(self.parameters(), lr=1e-1)\n"
   ]
  },
  {
   "cell_type": "code",
   "execution_count": 31,
   "metadata": {},
   "outputs": [],
   "source": [
    "class opt:\n",
    "        _DATA_PATH = \"/workspace/data/dataset/train\"\n",
    "        _CLIP_DURATION = 2 # Duration of sampled clip for each video\n",
    "        _BATCH_SIZE = 10\n",
    "        _NUM_WORKERS = 0  # Number of parallel processes fetching data"
   ]
  },
  {
   "cell_type": "code",
   "execution_count": 42,
   "metadata": {},
   "outputs": [],
   "source": [
    "from dataloader.data_loader import WalkDataModule\n",
    "\n",
    "def train():\n",
    "    classification_module = WalkVideoClassificationLightningModule()\n",
    "\n",
    "    data_module = WalkDataModule(opt)\n",
    "\n",
    "    trainer = pytorch_lightning.Trainer(strategy='ddp')\n",
    "    trainer.fit(classification_module, data_module)"
   ]
  },
  {
   "cell_type": "code",
   "execution_count": 43,
   "metadata": {},
   "outputs": [
    {
     "ename": "MisconfigurationException",
     "evalue": "`Trainer(strategy='ddp')` or `Trainer(accelerator='ddp')` is not compatible with an interactive environment. Run your code as a script, or choose one of the compatible strategies: Trainer(strategy=None|dp|tpu_spawn). In case you are spawning processes yourself, make sure to include the Trainer creation inside the worker function.",
     "output_type": "error",
     "traceback": [
      "\u001b[0;31m---------------------------------------------------------------------------\u001b[0m",
      "\u001b[0;31mMisconfigurationException\u001b[0m                 Traceback (most recent call last)",
      "\u001b[1;32m/workspace/Walk_Video_PyTorch/project/models/pytorchvideo_models.ipynb Cell 10'\u001b[0m in \u001b[0;36m<cell line: 1>\u001b[0;34m()\u001b[0m\n\u001b[0;32m----> <a href='vscode-notebook-cell://attached-container%2B7b22636f6e7461696e65724e616d65223a222f77616c6b5f766964656f222c2273657474696e6773223a7b22686f7374223a227373683a2f2f4c455f4c6162227d7d/workspace/Walk_Video_PyTorch/project/models/pytorchvideo_models.ipynb#ch0000009vscode-remote?line=0'>1</a>\u001b[0m train()\n",
      "\u001b[1;32m/workspace/Walk_Video_PyTorch/project/models/pytorchvideo_models.ipynb Cell 9'\u001b[0m in \u001b[0;36mtrain\u001b[0;34m()\u001b[0m\n\u001b[1;32m      <a href='vscode-notebook-cell://attached-container%2B7b22636f6e7461696e65724e616d65223a222f77616c6b5f766964656f222c2273657474696e6773223a7b22686f7374223a227373683a2f2f4c455f4c6162227d7d/workspace/Walk_Video_PyTorch/project/models/pytorchvideo_models.ipynb#ch0000007vscode-remote?line=3'>4</a>\u001b[0m classification_module \u001b[39m=\u001b[39m WalkVideoClassificationLightningModule()\n\u001b[1;32m      <a href='vscode-notebook-cell://attached-container%2B7b22636f6e7461696e65724e616d65223a222f77616c6b5f766964656f222c2273657474696e6773223a7b22686f7374223a227373683a2f2f4c455f4c6162227d7d/workspace/Walk_Video_PyTorch/project/models/pytorchvideo_models.ipynb#ch0000007vscode-remote?line=5'>6</a>\u001b[0m data_module \u001b[39m=\u001b[39m WalkDataModule(opt)\n\u001b[0;32m----> <a href='vscode-notebook-cell://attached-container%2B7b22636f6e7461696e65724e616d65223a222f77616c6b5f766964656f222c2273657474696e6773223a7b22686f7374223a227373683a2f2f4c455f4c6162227d7d/workspace/Walk_Video_PyTorch/project/models/pytorchvideo_models.ipynb#ch0000007vscode-remote?line=7'>8</a>\u001b[0m trainer \u001b[39m=\u001b[39m pytorch_lightning\u001b[39m.\u001b[39;49mTrainer(strategy\u001b[39m=\u001b[39;49m\u001b[39m'\u001b[39;49m\u001b[39mddp\u001b[39;49m\u001b[39m'\u001b[39;49m)\n\u001b[1;32m      <a href='vscode-notebook-cell://attached-container%2B7b22636f6e7461696e65724e616d65223a222f77616c6b5f766964656f222c2273657474696e6773223a7b22686f7374223a227373683a2f2f4c455f4c6162227d7d/workspace/Walk_Video_PyTorch/project/models/pytorchvideo_models.ipynb#ch0000007vscode-remote?line=8'>9</a>\u001b[0m trainer\u001b[39m.\u001b[39mfit(classification_module, data_module)\n",
      "File \u001b[0;32m/usr/local/lib/python3.9/dist-packages/pytorch_lightning/utilities/argparse.py:339\u001b[0m, in \u001b[0;36m_defaults_from_env_vars.<locals>.insert_env_defaults\u001b[0;34m(self, *args, **kwargs)\u001b[0m\n\u001b[1;32m    <a href='file:///usr/local/lib/python3.9/dist-packages/pytorch_lightning/utilities/argparse.py?line=335'>336</a>\u001b[0m kwargs \u001b[39m=\u001b[39m \u001b[39mdict\u001b[39m(\u001b[39mlist\u001b[39m(env_variables\u001b[39m.\u001b[39mitems()) \u001b[39m+\u001b[39m \u001b[39mlist\u001b[39m(kwargs\u001b[39m.\u001b[39mitems()))\n\u001b[1;32m    <a href='file:///usr/local/lib/python3.9/dist-packages/pytorch_lightning/utilities/argparse.py?line=337'>338</a>\u001b[0m \u001b[39m# all args were already moved to kwargs\u001b[39;00m\n\u001b[0;32m--> <a href='file:///usr/local/lib/python3.9/dist-packages/pytorch_lightning/utilities/argparse.py?line=338'>339</a>\u001b[0m \u001b[39mreturn\u001b[39;00m fn(\u001b[39mself\u001b[39;49m, \u001b[39m*\u001b[39;49m\u001b[39m*\u001b[39;49mkwargs)\n",
      "File \u001b[0;32m/usr/local/lib/python3.9/dist-packages/pytorch_lightning/trainer/trainer.py:483\u001b[0m, in \u001b[0;36mTrainer.__init__\u001b[0;34m(self, logger, checkpoint_callback, enable_checkpointing, callbacks, default_root_dir, gradient_clip_val, gradient_clip_algorithm, process_position, num_nodes, num_processes, devices, gpus, auto_select_gpus, tpu_cores, ipus, log_gpu_memory, progress_bar_refresh_rate, enable_progress_bar, overfit_batches, track_grad_norm, check_val_every_n_epoch, fast_dev_run, accumulate_grad_batches, max_epochs, min_epochs, max_steps, min_steps, max_time, limit_train_batches, limit_val_batches, limit_test_batches, limit_predict_batches, val_check_interval, flush_logs_every_n_steps, log_every_n_steps, accelerator, strategy, sync_batchnorm, precision, enable_model_summary, weights_summary, weights_save_path, num_sanity_val_steps, resume_from_checkpoint, profiler, benchmark, deterministic, reload_dataloaders_every_n_epochs, auto_lr_find, replace_sampler_ddp, detect_anomaly, auto_scale_batch_size, prepare_data_per_node, plugins, amp_backend, amp_level, move_metrics_to_cpu, multiple_trainloader_mode, stochastic_weight_avg, terminate_on_nan)\u001b[0m\n\u001b[1;32m    <a href='file:///usr/local/lib/python3.9/dist-packages/pytorch_lightning/trainer/trainer.py?line=479'>480</a>\u001b[0m \u001b[39m# init connectors\u001b[39;00m\n\u001b[1;32m    <a href='file:///usr/local/lib/python3.9/dist-packages/pytorch_lightning/trainer/trainer.py?line=480'>481</a>\u001b[0m \u001b[39mself\u001b[39m\u001b[39m.\u001b[39m_data_connector \u001b[39m=\u001b[39m DataConnector(\u001b[39mself\u001b[39m, multiple_trainloader_mode)\n\u001b[0;32m--> <a href='file:///usr/local/lib/python3.9/dist-packages/pytorch_lightning/trainer/trainer.py?line=482'>483</a>\u001b[0m \u001b[39mself\u001b[39m\u001b[39m.\u001b[39m_accelerator_connector \u001b[39m=\u001b[39m AcceleratorConnector(\n\u001b[1;32m    <a href='file:///usr/local/lib/python3.9/dist-packages/pytorch_lightning/trainer/trainer.py?line=483'>484</a>\u001b[0m     num_processes\u001b[39m=\u001b[39;49mnum_processes,\n\u001b[1;32m    <a href='file:///usr/local/lib/python3.9/dist-packages/pytorch_lightning/trainer/trainer.py?line=484'>485</a>\u001b[0m     devices\u001b[39m=\u001b[39;49mdevices,\n\u001b[1;32m    <a href='file:///usr/local/lib/python3.9/dist-packages/pytorch_lightning/trainer/trainer.py?line=485'>486</a>\u001b[0m     tpu_cores\u001b[39m=\u001b[39;49mtpu_cores,\n\u001b[1;32m    <a href='file:///usr/local/lib/python3.9/dist-packages/pytorch_lightning/trainer/trainer.py?line=486'>487</a>\u001b[0m     ipus\u001b[39m=\u001b[39;49mipus,\n\u001b[1;32m    <a href='file:///usr/local/lib/python3.9/dist-packages/pytorch_lightning/trainer/trainer.py?line=487'>488</a>\u001b[0m     accelerator\u001b[39m=\u001b[39;49maccelerator,\n\u001b[1;32m    <a href='file:///usr/local/lib/python3.9/dist-packages/pytorch_lightning/trainer/trainer.py?line=488'>489</a>\u001b[0m     strategy\u001b[39m=\u001b[39;49mstrategy,\n\u001b[1;32m    <a href='file:///usr/local/lib/python3.9/dist-packages/pytorch_lightning/trainer/trainer.py?line=489'>490</a>\u001b[0m     gpus\u001b[39m=\u001b[39;49mgpus,\n\u001b[1;32m    <a href='file:///usr/local/lib/python3.9/dist-packages/pytorch_lightning/trainer/trainer.py?line=490'>491</a>\u001b[0m     num_nodes\u001b[39m=\u001b[39;49mnum_nodes,\n\u001b[1;32m    <a href='file:///usr/local/lib/python3.9/dist-packages/pytorch_lightning/trainer/trainer.py?line=491'>492</a>\u001b[0m     sync_batchnorm\u001b[39m=\u001b[39;49msync_batchnorm,\n\u001b[1;32m    <a href='file:///usr/local/lib/python3.9/dist-packages/pytorch_lightning/trainer/trainer.py?line=492'>493</a>\u001b[0m     benchmark\u001b[39m=\u001b[39;49mbenchmark,\n\u001b[1;32m    <a href='file:///usr/local/lib/python3.9/dist-packages/pytorch_lightning/trainer/trainer.py?line=493'>494</a>\u001b[0m     replace_sampler_ddp\u001b[39m=\u001b[39;49mreplace_sampler_ddp,\n\u001b[1;32m    <a href='file:///usr/local/lib/python3.9/dist-packages/pytorch_lightning/trainer/trainer.py?line=494'>495</a>\u001b[0m     deterministic\u001b[39m=\u001b[39;49mdeterministic,\n\u001b[1;32m    <a href='file:///usr/local/lib/python3.9/dist-packages/pytorch_lightning/trainer/trainer.py?line=495'>496</a>\u001b[0m     auto_select_gpus\u001b[39m=\u001b[39;49mauto_select_gpus,\n\u001b[1;32m    <a href='file:///usr/local/lib/python3.9/dist-packages/pytorch_lightning/trainer/trainer.py?line=496'>497</a>\u001b[0m     precision\u001b[39m=\u001b[39;49mprecision,\n\u001b[1;32m    <a href='file:///usr/local/lib/python3.9/dist-packages/pytorch_lightning/trainer/trainer.py?line=497'>498</a>\u001b[0m     amp_type\u001b[39m=\u001b[39;49mamp_backend,\n\u001b[1;32m    <a href='file:///usr/local/lib/python3.9/dist-packages/pytorch_lightning/trainer/trainer.py?line=498'>499</a>\u001b[0m     amp_level\u001b[39m=\u001b[39;49mamp_level,\n\u001b[1;32m    <a href='file:///usr/local/lib/python3.9/dist-packages/pytorch_lightning/trainer/trainer.py?line=499'>500</a>\u001b[0m     plugins\u001b[39m=\u001b[39;49mplugins,\n\u001b[1;32m    <a href='file:///usr/local/lib/python3.9/dist-packages/pytorch_lightning/trainer/trainer.py?line=500'>501</a>\u001b[0m )\n\u001b[1;32m    <a href='file:///usr/local/lib/python3.9/dist-packages/pytorch_lightning/trainer/trainer.py?line=501'>502</a>\u001b[0m \u001b[39mself\u001b[39m\u001b[39m.\u001b[39m_logger_connector \u001b[39m=\u001b[39m LoggerConnector(\u001b[39mself\u001b[39m, log_gpu_memory)\n\u001b[1;32m    <a href='file:///usr/local/lib/python3.9/dist-packages/pytorch_lightning/trainer/trainer.py?line=502'>503</a>\u001b[0m \u001b[39mself\u001b[39m\u001b[39m.\u001b[39m_callback_connector \u001b[39m=\u001b[39m CallbackConnector(\u001b[39mself\u001b[39m)\n",
      "File \u001b[0;32m/usr/local/lib/python3.9/dist-packages/pytorch_lightning/trainer/connectors/accelerator_connector.py:212\u001b[0m, in \u001b[0;36mAcceleratorConnector.__init__\u001b[0;34m(self, devices, num_nodes, accelerator, strategy, plugins, precision, amp_type, amp_level, sync_batchnorm, benchmark, replace_sampler_ddp, deterministic, auto_select_gpus, num_processes, tpu_cores, ipus, gpus)\u001b[0m\n\u001b[1;32m    <a href='file:///usr/local/lib/python3.9/dist-packages/pytorch_lightning/trainer/connectors/accelerator_connector.py?line=208'>209</a>\u001b[0m \u001b[39mself\u001b[39m\u001b[39m.\u001b[39mprecision_plugin \u001b[39m=\u001b[39m \u001b[39mself\u001b[39m\u001b[39m.\u001b[39m_check_and_init_precision()\n\u001b[1;32m    <a href='file:///usr/local/lib/python3.9/dist-packages/pytorch_lightning/trainer/connectors/accelerator_connector.py?line=210'>211</a>\u001b[0m \u001b[39m# 6. Instantiate Strategy - Part 2\u001b[39;00m\n\u001b[0;32m--> <a href='file:///usr/local/lib/python3.9/dist-packages/pytorch_lightning/trainer/connectors/accelerator_connector.py?line=211'>212</a>\u001b[0m \u001b[39mself\u001b[39;49m\u001b[39m.\u001b[39;49m_lazy_init_strategy()\n",
      "File \u001b[0;32m/usr/local/lib/python3.9/dist-packages/pytorch_lightning/trainer/connectors/accelerator_connector.py:783\u001b[0m, in \u001b[0;36mAcceleratorConnector._lazy_init_strategy\u001b[0;34m(self)\u001b[0m\n\u001b[1;32m    <a href='file:///usr/local/lib/python3.9/dist-packages/pytorch_lightning/trainer/connectors/accelerator_connector.py?line=779'>780</a>\u001b[0m \u001b[39mfrom\u001b[39;00m \u001b[39mpytorch_lightning\u001b[39;00m\u001b[39m.\u001b[39;00m\u001b[39mutilities\u001b[39;00m \u001b[39mimport\u001b[39;00m _IS_INTERACTIVE\n\u001b[1;32m    <a href='file:///usr/local/lib/python3.9/dist-packages/pytorch_lightning/trainer/connectors/accelerator_connector.py?line=781'>782</a>\u001b[0m \u001b[39mif\u001b[39;00m _IS_INTERACTIVE \u001b[39mand\u001b[39;00m \u001b[39mself\u001b[39m\u001b[39m.\u001b[39mstrategy\u001b[39m.\u001b[39mlauncher \u001b[39mand\u001b[39;00m \u001b[39mnot\u001b[39;00m \u001b[39mself\u001b[39m\u001b[39m.\u001b[39mstrategy\u001b[39m.\u001b[39mlauncher\u001b[39m.\u001b[39mis_interactive_compatible:\n\u001b[0;32m--> <a href='file:///usr/local/lib/python3.9/dist-packages/pytorch_lightning/trainer/connectors/accelerator_connector.py?line=782'>783</a>\u001b[0m     \u001b[39mraise\u001b[39;00m MisconfigurationException(\n\u001b[1;32m    <a href='file:///usr/local/lib/python3.9/dist-packages/pytorch_lightning/trainer/connectors/accelerator_connector.py?line=783'>784</a>\u001b[0m         \u001b[39mf\u001b[39m\u001b[39m\"\u001b[39m\u001b[39m`Trainer(strategy=\u001b[39m\u001b[39m{\u001b[39;00m\u001b[39mself\u001b[39m\u001b[39m.\u001b[39mstrategy\u001b[39m.\u001b[39mstrategy_name\u001b[39m!r}\u001b[39;00m\u001b[39m)` or\u001b[39m\u001b[39m\"\u001b[39m\n\u001b[1;32m    <a href='file:///usr/local/lib/python3.9/dist-packages/pytorch_lightning/trainer/connectors/accelerator_connector.py?line=784'>785</a>\u001b[0m         \u001b[39mf\u001b[39m\u001b[39m\"\u001b[39m\u001b[39m `Trainer(accelerator=\u001b[39m\u001b[39m{\u001b[39;00m\u001b[39mself\u001b[39m\u001b[39m.\u001b[39mstrategy\u001b[39m.\u001b[39mstrategy_name\u001b[39m!r}\u001b[39;00m\u001b[39m)` is not compatible with an interactive\u001b[39m\u001b[39m\"\u001b[39m\n\u001b[1;32m    <a href='file:///usr/local/lib/python3.9/dist-packages/pytorch_lightning/trainer/connectors/accelerator_connector.py?line=785'>786</a>\u001b[0m         \u001b[39m\"\u001b[39m\u001b[39m environment. Run your code as a script, or choose one of the compatible strategies:\u001b[39m\u001b[39m\"\u001b[39m\n\u001b[1;32m    <a href='file:///usr/local/lib/python3.9/dist-packages/pytorch_lightning/trainer/connectors/accelerator_connector.py?line=786'>787</a>\u001b[0m         \u001b[39mf\u001b[39m\u001b[39m\"\u001b[39m\u001b[39m Trainer(strategy=None|\u001b[39m\u001b[39m{\u001b[39;00m\u001b[39m'\u001b[39m\u001b[39m|\u001b[39m\u001b[39m'\u001b[39m\u001b[39m.\u001b[39mjoin(_StrategyType\u001b[39m.\u001b[39minteractive_compatible_types())\u001b[39m}\u001b[39;00m\u001b[39m).\u001b[39m\u001b[39m\"\u001b[39m\n\u001b[1;32m    <a href='file:///usr/local/lib/python3.9/dist-packages/pytorch_lightning/trainer/connectors/accelerator_connector.py?line=787'>788</a>\u001b[0m         \u001b[39m\"\u001b[39m\u001b[39m In case you are spawning processes yourself, make sure to include the Trainer\u001b[39m\u001b[39m\"\u001b[39m\n\u001b[1;32m    <a href='file:///usr/local/lib/python3.9/dist-packages/pytorch_lightning/trainer/connectors/accelerator_connector.py?line=788'>789</a>\u001b[0m         \u001b[39m\"\u001b[39m\u001b[39m creation inside the worker function.\u001b[39m\u001b[39m\"\u001b[39m\n\u001b[1;32m    <a href='file:///usr/local/lib/python3.9/dist-packages/pytorch_lightning/trainer/connectors/accelerator_connector.py?line=789'>790</a>\u001b[0m     )\n\u001b[1;32m    <a href='file:///usr/local/lib/python3.9/dist-packages/pytorch_lightning/trainer/connectors/accelerator_connector.py?line=791'>792</a>\u001b[0m \u001b[39m# TODO: should be moved to _check_strategy_and_fallback().\u001b[39;00m\n\u001b[1;32m    <a href='file:///usr/local/lib/python3.9/dist-packages/pytorch_lightning/trainer/connectors/accelerator_connector.py?line=792'>793</a>\u001b[0m \u001b[39m# Current test check precision first, so keep this check here to meet error order\u001b[39;00m\n\u001b[1;32m    <a href='file:///usr/local/lib/python3.9/dist-packages/pytorch_lightning/trainer/connectors/accelerator_connector.py?line=793'>794</a>\u001b[0m \u001b[39mif\u001b[39;00m \u001b[39misinstance\u001b[39m(\u001b[39mself\u001b[39m\u001b[39m.\u001b[39maccelerator, TPUAccelerator) \u001b[39mand\u001b[39;00m \u001b[39mnot\u001b[39;00m \u001b[39misinstance\u001b[39m(\n\u001b[1;32m    <a href='file:///usr/local/lib/python3.9/dist-packages/pytorch_lightning/trainer/connectors/accelerator_connector.py?line=794'>795</a>\u001b[0m     \u001b[39mself\u001b[39m\u001b[39m.\u001b[39mstrategy, (SingleTPUStrategy, TPUSpawnStrategy)\n\u001b[1;32m    <a href='file:///usr/local/lib/python3.9/dist-packages/pytorch_lightning/trainer/connectors/accelerator_connector.py?line=795'>796</a>\u001b[0m ):\n",
      "\u001b[0;31mMisconfigurationException\u001b[0m: `Trainer(strategy='ddp')` or `Trainer(accelerator='ddp')` is not compatible with an interactive environment. Run your code as a script, or choose one of the compatible strategies: Trainer(strategy=None|dp|tpu_spawn). In case you are spawning processes yourself, make sure to include the Trainer creation inside the worker function."
     ]
    },
    {
     "name": "stderr",
     "output_type": "stream",
     "text": [
      "Bad pipe message: %s [b'\" Not A;Brand\";v=\"99\", \"Chromium\";v=\"102\", \"Google Chrome']\n",
      "Bad pipe message: %s [b'v=\"102\"\\r\\nsec-ch-ua-mobile: ?0\\r\\nse', b'ch-ua-platform: \"Windows\"\\r\\nUpgrade-Insecure-Requests: 1\\r\\nUser-Agent: Mozilla/5.0 (Windows NT 10.0;', b'in64; x64) AppleWebKit/537.36 (', b'TML, like Gecko) Chrome/102.0.5005.61 Safari/537.36\\r\\nAccept: text/html,app']\n",
      "Bad pipe message: %s [b'cation/xhtml+xml,application/xml;q=0.9,image/avif,image/webp,image/apng,*/*;q=0.8,application/signed-exchan', b';v=b3;q=0.9\\r\\nSec-Fetch-Site: none\\r\\nSec-Fetch-Mode: navigate\\r\\nSec-Fetch-User: ?1\\r\\nSec-Fetch-Dest: docum', b't\\r\\nAccept-Encoding: gzip, deflate, br\\r\\nAccept-Language: zh,zh-CN;q=0.9,zh-TW;q=0.8,ja;q=0.7,en;q=0.6']\n",
      "Bad pipe message: %s [b'ol: max-age=0\\r\\nsec-ch-ua: \" Not A;Brand\";v=\"99\", \"Chromium\";v=\"102\", \"Google Chrome\";v=\"102\"\\r\\nsec-ch-ua-mobile: ?0\\r']\n",
      "Bad pipe message: %s [b'ec-ch-ua-', b'atform: \"Windows\"\\r\\nUpgrade-Insecure-Requests: 1\\r\\nUser-Agent: Mozilla/5.0 (Windows NT 10.0; Win64; x64) AppleWeb']\n",
      "Bad pipe message: %s [b't/537.36 (KHTML, like Gecko) Chrome/102.0.5005.61 Safari/537.36\\r\\nAccept: t', b't/html,application/xhtml+xml,application/xml;q=0.9,image/avif,image/webp,image/apng,*/*;q=0.8,applic']\n",
      "Bad pipe message: %s [b'ion/signed-exchange;v=b3;q=0.9\\r\\nSec-Fetch-Site: none\\r\\nSec-Fetch-Mode: navigate\\r\\nSec-Fetch-User: ']\n",
      "Bad pipe message: %s [b'\\r\\nSec-Fetch-Dest: document\\r\\nAccept-Encoding: gzip, deflate, br', b'Accept-Langu']\n"
     ]
    }
   ],
   "source": [
    "train()"
   ]
  }
 ],
 "metadata": {
  "interpreter": {
   "hash": "767d51c1340bd893661ea55ea3124f6de3c7a262a8b4abca0554b478b1e2ff90"
  },
  "kernelspec": {
   "display_name": "Python 3.9.12 64-bit",
   "language": "python",
   "name": "python3"
  },
  "language_info": {
   "codemirror_mode": {
    "name": "ipython",
    "version": 3
   },
   "file_extension": ".py",
   "mimetype": "text/x-python",
   "name": "python",
   "nbconvert_exporter": "python",
   "pygments_lexer": "ipython3",
   "version": "3.9.12"
  },
  "orig_nbformat": 4
 },
 "nbformat": 4,
 "nbformat_minor": 2
}
